{
 "cells": [
  {
   "cell_type": "code",
   "execution_count": 1,
   "metadata": {
    "collapsed": false
   },
   "outputs": [],
   "source": [
    "# using python 3 to better handle unicode emojis\n",
    "import re\n",
    "import emoji\n",
    "import pandas as pd\n",
    "import numpy as np\n",
    "import matplotlib.pyplot as plt\n",
    "from collections import Counter\n",
    "\n",
    "pd.set_option('display.max_columns',500)\n",
    "pd.set_option('display.max_rows',500)\n",
    "\n",
    "%matplotlib inline"
   ]
  },
  {
   "cell_type": "code",
   "execution_count": 2,
   "metadata": {
    "collapsed": true
   },
   "outputs": [],
   "source": [
    "# Try emoji extraction function in python 3:\n",
    "def extract_emojis(s):\n",
    "    return ''.join(c for c in str(s) if c in emoji.UNICODE_EMOJI)"
   ]
  },
  {
   "cell_type": "code",
   "execution_count": 3,
   "metadata": {
    "collapsed": true
   },
   "outputs": [],
   "source": [
    "# Load data\n",
    "age_profiles = pd.read_json('assignment_package/age_profiles.json')\n",
    "ages_train = pd.read_csv('assignment_package/ages_train.csv')"
   ]
  },
  {
   "cell_type": "code",
   "execution_count": 4,
   "metadata": {
    "collapsed": false
   },
   "outputs": [
    {
     "name": "stderr",
     "output_type": "stream",
     "text": [
      "//anaconda/envs/capstone/lib/python3.6/site-packages/pandas/core/indexes/api.py:43: RuntimeWarning: '>' not supported between instances of 'int' and 'str', sort order is undefined for incomparable objects\n",
      "  union = _union_indexes(indexes)\n",
      "//anaconda/envs/capstone/lib/python3.6/site-packages/pandas/core/indexes/api.py:77: RuntimeWarning: '>' not supported between instances of 'int' and 'str', sort order is undefined for incomparable objects\n",
      "  result = result.union(other)\n"
     ]
    }
   ],
   "source": [
    "# Create a new age_profiles dataframe that extracts info from \"status\" column:\n",
    "age_profiles_new = pd.concat([age_profiles, \n",
    "                              pd.DataFrame(age_profiles['status'].apply(pd.Series) \\\n",
    "                                           .rename(columns = lambda x: 'status_' + str(x)))], axis=1)"
   ]
  },
  {
   "cell_type": "code",
   "execution_count": 5,
   "metadata": {
    "collapsed": false
   },
   "outputs": [],
   "source": [
    "# Take a look at the new dataframe\n",
    "# age_profiles_new.head()"
   ]
  },
  {
   "cell_type": "code",
   "execution_count": 6,
   "metadata": {
    "collapsed": false
   },
   "outputs": [],
   "source": [
    "# Create a new column 'status_emoji' that only has emojis:\n",
    "age_profiles_new['status_emoji'] = age_profiles_new['status_text'].map(lambda x: extract_emojis(x))"
   ]
  },
  {
   "cell_type": "code",
   "execution_count": 7,
   "metadata": {
    "collapsed": false
   },
   "outputs": [],
   "source": [
    "# Create a new column as emoji count in each profile status text:\n",
    "age_profiles_new['emoji_cnt'] = age_profiles_new['status_emoji'].map(lambda x: len(x))"
   ]
  },
  {
   "cell_type": "markdown",
   "metadata": {},
   "source": [
    "# Join ages_train with age_profiles to get user age:\n"
   ]
  },
  {
   "cell_type": "code",
   "execution_count": 8,
   "metadata": {
    "collapsed": false
   },
   "outputs": [
    {
     "name": "stdout",
     "output_type": "stream",
     "text": [
      "<class 'pandas.core.frame.DataFrame'>\n",
      "RangeIndex: 1711 entries, 0 to 1710\n",
      "Data columns (total 2 columns):\n",
      "ID     1711 non-null int64\n",
      "Age    1711 non-null int64\n",
      "dtypes: int64(2)\n",
      "memory usage: 26.8 KB\n"
     ]
    }
   ],
   "source": [
    "ages_train.info()"
   ]
  },
  {
   "cell_type": "code",
   "execution_count": 9,
   "metadata": {
    "collapsed": true
   },
   "outputs": [],
   "source": [
    "# Remove outliers\n",
    "ages_new = ages_train[ages_train['Age']<80]"
   ]
  },
  {
   "cell_type": "code",
   "execution_count": 10,
   "metadata": {
    "collapsed": false
   },
   "outputs": [
    {
     "name": "stderr",
     "output_type": "stream",
     "text": [
      "//anaconda/envs/capstone/lib/python3.6/site-packages/ipykernel/__main__.py:4: SettingWithCopyWarning: \n",
      "A value is trying to be set on a copy of a slice from a DataFrame.\n",
      "Try using .loc[row_indexer,col_indexer] = value instead\n",
      "\n",
      "See the caveats in the documentation: http://pandas.pydata.org/pandas-docs/stable/indexing.html#indexing-view-versus-copy\n"
     ]
    }
   ],
   "source": [
    "# Create a new column as age_decade:\n",
    "bins = [15,25,35,45,55,65,120]\n",
    "group_names = ['16-25','26-35','36-45','46-55','56-65','>65']\n",
    "ages_new['age_decade'] = pd.cut(ages_new['Age'], bins, labels=group_names)"
   ]
  },
  {
   "cell_type": "code",
   "execution_count": 11,
   "metadata": {
    "collapsed": false
   },
   "outputs": [],
   "source": [
    "age_profiles_new.set_index('id', inplace=True)"
   ]
  },
  {
   "cell_type": "code",
   "execution_count": 12,
   "metadata": {
    "collapsed": false
   },
   "outputs": [],
   "source": [
    "ages_new.set_index('ID', inplace=True)"
   ]
  },
  {
   "cell_type": "code",
   "execution_count": 13,
   "metadata": {
    "collapsed": true
   },
   "outputs": [],
   "source": [
    "age_joined = age_profiles_new.join(ages_new, how='inner')"
   ]
  },
  {
   "cell_type": "code",
   "execution_count": 14,
   "metadata": {
    "collapsed": false
   },
   "outputs": [
    {
     "data": {
      "text/html": [
       "<div>\n",
       "<style>\n",
       "    .dataframe thead tr:only-child th {\n",
       "        text-align: right;\n",
       "    }\n",
       "\n",
       "    .dataframe thead th {\n",
       "        text-align: left;\n",
       "    }\n",
       "\n",
       "    .dataframe tbody tr th {\n",
       "        vertical-align: top;\n",
       "    }\n",
       "</style>\n",
       "<table border=\"1\" class=\"dataframe\">\n",
       "  <thead>\n",
       "    <tr style=\"text-align: right;\">\n",
       "      <th></th>\n",
       "      <th>contributors_enabled</th>\n",
       "      <th>created_at</th>\n",
       "      <th>default_profile</th>\n",
       "      <th>default_profile_image</th>\n",
       "      <th>description</th>\n",
       "      <th>entities</th>\n",
       "      <th>favourites_count</th>\n",
       "      <th>follow_request_sent</th>\n",
       "      <th>followers_count</th>\n",
       "      <th>following</th>\n",
       "      <th>friends_count</th>\n",
       "      <th>geo_enabled</th>\n",
       "      <th>id_str</th>\n",
       "      <th>is_translation_enabled</th>\n",
       "      <th>is_translator</th>\n",
       "      <th>lang</th>\n",
       "      <th>listed_count</th>\n",
       "      <th>location</th>\n",
       "      <th>name</th>\n",
       "      <th>notifications</th>\n",
       "      <th>profile_background_color</th>\n",
       "      <th>profile_background_image_url</th>\n",
       "      <th>profile_background_image_url_https</th>\n",
       "      <th>profile_background_tile</th>\n",
       "      <th>profile_banner_url</th>\n",
       "      <th>profile_image_url</th>\n",
       "      <th>profile_image_url_https</th>\n",
       "      <th>profile_link_color</th>\n",
       "      <th>profile_sidebar_border_color</th>\n",
       "      <th>profile_sidebar_fill_color</th>\n",
       "      <th>profile_text_color</th>\n",
       "      <th>profile_use_background_image</th>\n",
       "      <th>protected</th>\n",
       "      <th>screen_name</th>\n",
       "      <th>status</th>\n",
       "      <th>statuses_count</th>\n",
       "      <th>time_zone</th>\n",
       "      <th>url</th>\n",
       "      <th>utc_offset</th>\n",
       "      <th>verified</th>\n",
       "      <th>status_contributors</th>\n",
       "      <th>status_coordinates</th>\n",
       "      <th>status_created_at</th>\n",
       "      <th>status_entities</th>\n",
       "      <th>status_favorite_count</th>\n",
       "      <th>status_favorited</th>\n",
       "      <th>status_geo</th>\n",
       "      <th>status_id</th>\n",
       "      <th>status_id_str</th>\n",
       "      <th>status_in_reply_to_screen_name</th>\n",
       "      <th>status_in_reply_to_status_id</th>\n",
       "      <th>status_in_reply_to_status_id_str</th>\n",
       "      <th>status_in_reply_to_user_id</th>\n",
       "      <th>status_in_reply_to_user_id_str</th>\n",
       "      <th>status_lang</th>\n",
       "      <th>status_place</th>\n",
       "      <th>status_possibly_sensitive</th>\n",
       "      <th>status_retweet_count</th>\n",
       "      <th>status_retweeted</th>\n",
       "      <th>status_retweeted_status</th>\n",
       "      <th>status_source</th>\n",
       "      <th>status_text</th>\n",
       "      <th>status_truncated</th>\n",
       "      <th>status_0</th>\n",
       "      <th>status_emoji</th>\n",
       "      <th>emoji_cnt</th>\n",
       "      <th>Age</th>\n",
       "      <th>age_decade</th>\n",
       "    </tr>\n",
       "  </thead>\n",
       "  <tbody>\n",
       "    <tr>\n",
       "      <th>612815277</th>\n",
       "      <td>False</td>\n",
       "      <td>2012-06-19 17:54:58</td>\n",
       "      <td>False</td>\n",
       "      <td>False</td>\n",
       "      <td>You'll never find another one like me.</td>\n",
       "      <td>{'description': {'urls': []}}</td>\n",
       "      <td>7931</td>\n",
       "      <td>False</td>\n",
       "      <td>274</td>\n",
       "      <td>False</td>\n",
       "      <td>264</td>\n",
       "      <td>True</td>\n",
       "      <td>612815277</td>\n",
       "      <td>False</td>\n",
       "      <td>False</td>\n",
       "      <td>en</td>\n",
       "      <td>1</td>\n",
       "      <td></td>\n",
       "      <td>Greggy</td>\n",
       "      <td>False</td>\n",
       "      <td>131516</td>\n",
       "      <td>http://abs.twimg.com/images/themes/theme14/bg.gif</td>\n",
       "      <td>https://abs.twimg.com/images/themes/theme14/bg...</td>\n",
       "      <td>True</td>\n",
       "      <td>https://pbs.twimg.com/profile_banners/61281527...</td>\n",
       "      <td>http://pbs.twimg.com/profile_images/4776662828...</td>\n",
       "      <td>https://pbs.twimg.com/profile_images/477666282...</td>\n",
       "      <td>009999</td>\n",
       "      <td>EEEEEE</td>\n",
       "      <td>EFEFEF</td>\n",
       "      <td>333333</td>\n",
       "      <td>True</td>\n",
       "      <td>False</td>\n",
       "      <td>agregtoremember</td>\n",
       "      <td>{'retweeted_status': {'retweet_count': 452, 'c...</td>\n",
       "      <td>12230</td>\n",
       "      <td>Atlantic Time (Canada)</td>\n",
       "      <td>None</td>\n",
       "      <td>-10800.0</td>\n",
       "      <td>False</td>\n",
       "      <td>NaN</td>\n",
       "      <td>None</td>\n",
       "      <td>Fri Sep 26 16:49:37 +0000 2014</td>\n",
       "      <td>{'urls': [], 'user_mentions': [{'id': 15919560...</td>\n",
       "      <td>0.0</td>\n",
       "      <td>False</td>\n",
       "      <td>None</td>\n",
       "      <td>5.155437e+17</td>\n",
       "      <td>515543724785684480</td>\n",
       "      <td>None</td>\n",
       "      <td>NaN</td>\n",
       "      <td>None</td>\n",
       "      <td>NaN</td>\n",
       "      <td>None</td>\n",
       "      <td>en</td>\n",
       "      <td>None</td>\n",
       "      <td>NaN</td>\n",
       "      <td>452.0</td>\n",
       "      <td>False</td>\n",
       "      <td>{'retweet_count': 452, 'created_at': 'Fri Sep ...</td>\n",
       "      <td>&lt;a href=\"http://twitter.com/download/android\" ...</td>\n",
       "      <td>RT @DogeTheDog: Wow\\n           So friday\\n   ...</td>\n",
       "      <td>False</td>\n",
       "      <td>NaN</td>\n",
       "      <td></td>\n",
       "      <td>0</td>\n",
       "      <td>21</td>\n",
       "      <td>16-25</td>\n",
       "    </tr>\n",
       "    <tr>\n",
       "      <th>490791079</th>\n",
       "      <td>False</td>\n",
       "      <td>2012-02-12 22:36:17</td>\n",
       "      <td>False</td>\n",
       "      <td>False</td>\n",
       "      <td>If you like me, i probably like you more. {IG:...</td>\n",
       "      <td>{'description': {'urls': []}}</td>\n",
       "      <td>1141</td>\n",
       "      <td>False</td>\n",
       "      <td>481</td>\n",
       "      <td>False</td>\n",
       "      <td>527</td>\n",
       "      <td>True</td>\n",
       "      <td>490791079</td>\n",
       "      <td>False</td>\n",
       "      <td>False</td>\n",
       "      <td>en</td>\n",
       "      <td>1</td>\n",
       "      <td>9⃣3⃣7⃣</td>\n",
       "      <td>Guff✌️</td>\n",
       "      <td>False</td>\n",
       "      <td>1A1B1F</td>\n",
       "      <td>http://abs.twimg.com/images/themes/theme9/bg.gif</td>\n",
       "      <td>https://abs.twimg.com/images/themes/theme9/bg.gif</td>\n",
       "      <td>False</td>\n",
       "      <td>https://pbs.twimg.com/profile_banners/49079107...</td>\n",
       "      <td>http://pbs.twimg.com/profile_images/5097227545...</td>\n",
       "      <td>https://pbs.twimg.com/profile_images/509722754...</td>\n",
       "      <td>2FC2EF</td>\n",
       "      <td>181A1E</td>\n",
       "      <td>252429</td>\n",
       "      <td>666666</td>\n",
       "      <td>True</td>\n",
       "      <td>False</td>\n",
       "      <td>C_Guffieee</td>\n",
       "      <td>{'retweet_count': 0, 'created_at': 'Fri Sep 26...</td>\n",
       "      <td>14680</td>\n",
       "      <td>Hawaii</td>\n",
       "      <td>None</td>\n",
       "      <td>-36000.0</td>\n",
       "      <td>False</td>\n",
       "      <td>NaN</td>\n",
       "      <td>None</td>\n",
       "      <td>Fri Sep 26 17:42:07 +0000 2014</td>\n",
       "      <td>{'urls': [], 'user_mentions': [], 'symbols': [...</td>\n",
       "      <td>0.0</td>\n",
       "      <td>False</td>\n",
       "      <td>None</td>\n",
       "      <td>5.155569e+17</td>\n",
       "      <td>515556938512609280</td>\n",
       "      <td>None</td>\n",
       "      <td>NaN</td>\n",
       "      <td>None</td>\n",
       "      <td>NaN</td>\n",
       "      <td>None</td>\n",
       "      <td>en</td>\n",
       "      <td>None</td>\n",
       "      <td>NaN</td>\n",
       "      <td>0.0</td>\n",
       "      <td>False</td>\n",
       "      <td>NaN</td>\n",
       "      <td>&lt;a href=\"http://twitter.com/download/iphone\" r...</td>\n",
       "      <td>Damn I gotta wait to next week to get the IPho...</td>\n",
       "      <td>False</td>\n",
       "      <td>NaN</td>\n",
       "      <td>😒</td>\n",
       "      <td>1</td>\n",
       "      <td>18</td>\n",
       "      <td>16-25</td>\n",
       "    </tr>\n",
       "    <tr>\n",
       "      <th>264416315</th>\n",
       "      <td>False</td>\n",
       "      <td>2011-03-11 21:44:56</td>\n",
       "      <td>False</td>\n",
       "      <td>False</td>\n",
       "      <td>Success doesn’t come to you…you go to it.</td>\n",
       "      <td>{'description': {'urls': []}}</td>\n",
       "      <td>174</td>\n",
       "      <td>False</td>\n",
       "      <td>878</td>\n",
       "      <td>False</td>\n",
       "      <td>953</td>\n",
       "      <td>False</td>\n",
       "      <td>264416315</td>\n",
       "      <td>False</td>\n",
       "      <td>False</td>\n",
       "      <td>en</td>\n",
       "      <td>2</td>\n",
       "      <td>Wonderland</td>\n",
       "      <td>Starqueria.⚓</td>\n",
       "      <td>False</td>\n",
       "      <td>FCEBB6</td>\n",
       "      <td>http://pbs.twimg.com/profile_background_images...</td>\n",
       "      <td>https://pbs.twimg.com/profile_background_image...</td>\n",
       "      <td>True</td>\n",
       "      <td>https://pbs.twimg.com/profile_banners/26441631...</td>\n",
       "      <td>http://pbs.twimg.com/profile_images/5127311352...</td>\n",
       "      <td>https://pbs.twimg.com/profile_images/512731135...</td>\n",
       "      <td>CE7834</td>\n",
       "      <td>F0A830</td>\n",
       "      <td>78C0A8</td>\n",
       "      <td>5E412F</td>\n",
       "      <td>True</td>\n",
       "      <td>False</td>\n",
       "      <td>_Starqueria</td>\n",
       "      <td>{'retweeted_status': {'retweet_count': 2614, '...</td>\n",
       "      <td>22857</td>\n",
       "      <td>Hawaii</td>\n",
       "      <td>None</td>\n",
       "      <td>-36000.0</td>\n",
       "      <td>False</td>\n",
       "      <td>NaN</td>\n",
       "      <td>None</td>\n",
       "      <td>Fri Sep 26 02:57:32 +0000 2014</td>\n",
       "      <td>{'urls': [], 'media': [{'media_url': 'http://p...</td>\n",
       "      <td>0.0</td>\n",
       "      <td>False</td>\n",
       "      <td>None</td>\n",
       "      <td>5.153343e+17</td>\n",
       "      <td>515334328113307649</td>\n",
       "      <td>None</td>\n",
       "      <td>NaN</td>\n",
       "      <td>None</td>\n",
       "      <td>NaN</td>\n",
       "      <td>None</td>\n",
       "      <td>en</td>\n",
       "      <td>None</td>\n",
       "      <td>False</td>\n",
       "      <td>2614.0</td>\n",
       "      <td>False</td>\n",
       "      <td>{'retweet_count': 2614, 'entities': {'urls': [...</td>\n",
       "      <td>&lt;a href=\"http://twitter.com/download/android\" ...</td>\n",
       "      <td>RT @ImNeverChillin: How your girl look at you ...</td>\n",
       "      <td>False</td>\n",
       "      <td>NaN</td>\n",
       "      <td></td>\n",
       "      <td>0</td>\n",
       "      <td>18</td>\n",
       "      <td>16-25</td>\n",
       "    </tr>\n",
       "    <tr>\n",
       "      <th>97515432</th>\n",
       "      <td>False</td>\n",
       "      <td>2009-12-17 20:08:55</td>\n",
       "      <td>False</td>\n",
       "      <td>False</td>\n",
       "      <td>NEVER care about what a person says that doesn...</td>\n",
       "      <td>{'description': {'urls': []}}</td>\n",
       "      <td>303</td>\n",
       "      <td>False</td>\n",
       "      <td>742</td>\n",
       "      <td>False</td>\n",
       "      <td>701</td>\n",
       "      <td>False</td>\n",
       "      <td>97515432</td>\n",
       "      <td>False</td>\n",
       "      <td>False</td>\n",
       "      <td>en</td>\n",
       "      <td>30</td>\n",
       "      <td>•Carolina South• 843•</td>\n",
       "      <td>. keeleesha</td>\n",
       "      <td>False</td>\n",
       "      <td>131516</td>\n",
       "      <td>http://pbs.twimg.com/profile_background_images...</td>\n",
       "      <td>https://pbs.twimg.com/profile_background_image...</td>\n",
       "      <td>True</td>\n",
       "      <td>NaN</td>\n",
       "      <td>http://pbs.twimg.com/profile_images/4939742059...</td>\n",
       "      <td>https://pbs.twimg.com/profile_images/493974205...</td>\n",
       "      <td>009999</td>\n",
       "      <td>FFFFFF</td>\n",
       "      <td>EFEFEF</td>\n",
       "      <td>333333</td>\n",
       "      <td>True</td>\n",
       "      <td>False</td>\n",
       "      <td>Keeleesha</td>\n",
       "      <td>{'retweet_count': 0, 'entities': {'urls': [], ...</td>\n",
       "      <td>71654</td>\n",
       "      <td>Eastern Time (US &amp; Canada)</td>\n",
       "      <td>None</td>\n",
       "      <td>-14400.0</td>\n",
       "      <td>False</td>\n",
       "      <td>NaN</td>\n",
       "      <td>None</td>\n",
       "      <td>Fri Sep 26 19:10:42 +0000 2014</td>\n",
       "      <td>{'urls': [], 'media': [{'media_url': 'http://p...</td>\n",
       "      <td>0.0</td>\n",
       "      <td>False</td>\n",
       "      <td>None</td>\n",
       "      <td>5.155792e+17</td>\n",
       "      <td>515579231393562624</td>\n",
       "      <td>None</td>\n",
       "      <td>NaN</td>\n",
       "      <td>None</td>\n",
       "      <td>NaN</td>\n",
       "      <td>None</td>\n",
       "      <td>en</td>\n",
       "      <td>None</td>\n",
       "      <td>False</td>\n",
       "      <td>0.0</td>\n",
       "      <td>False</td>\n",
       "      <td>NaN</td>\n",
       "      <td>&lt;a href=\"http://www.myplume.com/\" rel=\"nofollo...</td>\n",
       "      <td>his cake I got for his daycare class. They tor...</td>\n",
       "      <td>False</td>\n",
       "      <td>NaN</td>\n",
       "      <td></td>\n",
       "      <td>0</td>\n",
       "      <td>23</td>\n",
       "      <td>16-25</td>\n",
       "    </tr>\n",
       "    <tr>\n",
       "      <th>224078321</th>\n",
       "      <td>False</td>\n",
       "      <td>2010-12-08 02:50:16</td>\n",
       "      <td>False</td>\n",
       "      <td>False</td>\n",
       "      <td>STOP PREE</td>\n",
       "      <td>{'description': {'urls': []}}</td>\n",
       "      <td>1188</td>\n",
       "      <td>False</td>\n",
       "      <td>1030</td>\n",
       "      <td>False</td>\n",
       "      <td>1006</td>\n",
       "      <td>True</td>\n",
       "      <td>224078321</td>\n",
       "      <td>False</td>\n",
       "      <td>False</td>\n",
       "      <td>en</td>\n",
       "      <td>3</td>\n",
       "      <td>ME</td>\n",
       "      <td>King.</td>\n",
       "      <td>False</td>\n",
       "      <td>642D8B</td>\n",
       "      <td>http://pbs.twimg.com/profile_background_images...</td>\n",
       "      <td>https://pbs.twimg.com/profile_background_image...</td>\n",
       "      <td>True</td>\n",
       "      <td>https://pbs.twimg.com/profile_banners/22407832...</td>\n",
       "      <td>http://pbs.twimg.com/profile_images/5136981503...</td>\n",
       "      <td>https://pbs.twimg.com/profile_images/513698150...</td>\n",
       "      <td>FF0091</td>\n",
       "      <td>FFFFFF</td>\n",
       "      <td>DDEEF6</td>\n",
       "      <td>333333</td>\n",
       "      <td>True</td>\n",
       "      <td>False</td>\n",
       "      <td>loook_backatit</td>\n",
       "      <td>{'retweet_count': 0, 'created_at': 'Fri Sep 26...</td>\n",
       "      <td>19888</td>\n",
       "      <td>Quito</td>\n",
       "      <td>None</td>\n",
       "      <td>-18000.0</td>\n",
       "      <td>False</td>\n",
       "      <td>NaN</td>\n",
       "      <td>None</td>\n",
       "      <td>Fri Sep 26 13:08:25 +0000 2014</td>\n",
       "      <td>{'urls': [], 'user_mentions': [], 'symbols': [...</td>\n",
       "      <td>0.0</td>\n",
       "      <td>False</td>\n",
       "      <td>None</td>\n",
       "      <td>5.154881e+17</td>\n",
       "      <td>515488059371311104</td>\n",
       "      <td>None</td>\n",
       "      <td>NaN</td>\n",
       "      <td>None</td>\n",
       "      <td>NaN</td>\n",
       "      <td>None</td>\n",
       "      <td>en</td>\n",
       "      <td>None</td>\n",
       "      <td>NaN</td>\n",
       "      <td>0.0</td>\n",
       "      <td>False</td>\n",
       "      <td>NaN</td>\n",
       "      <td>&lt;a href=\"http://twitter.com/download/android\" ...</td>\n",
       "      <td>Bae got like 2-3 more mnths in jail #freemyboo...</td>\n",
       "      <td>False</td>\n",
       "      <td>NaN</td>\n",
       "      <td></td>\n",
       "      <td>0</td>\n",
       "      <td>18</td>\n",
       "      <td>16-25</td>\n",
       "    </tr>\n",
       "  </tbody>\n",
       "</table>\n",
       "</div>"
      ],
      "text/plain": [
       "           contributors_enabled          created_at  default_profile  \\\n",
       "612815277                 False 2012-06-19 17:54:58            False   \n",
       "490791079                 False 2012-02-12 22:36:17            False   \n",
       "264416315                 False 2011-03-11 21:44:56            False   \n",
       "97515432                  False 2009-12-17 20:08:55            False   \n",
       "224078321                 False 2010-12-08 02:50:16            False   \n",
       "\n",
       "           default_profile_image  \\\n",
       "612815277                  False   \n",
       "490791079                  False   \n",
       "264416315                  False   \n",
       "97515432                   False   \n",
       "224078321                  False   \n",
       "\n",
       "                                                 description  \\\n",
       "612815277             You'll never find another one like me.   \n",
       "490791079  If you like me, i probably like you more. {IG:...   \n",
       "264416315          Success doesn’t come to you…you go to it.   \n",
       "97515432   NEVER care about what a person says that doesn...   \n",
       "224078321                                          STOP PREE   \n",
       "\n",
       "                                entities  favourites_count  \\\n",
       "612815277  {'description': {'urls': []}}              7931   \n",
       "490791079  {'description': {'urls': []}}              1141   \n",
       "264416315  {'description': {'urls': []}}               174   \n",
       "97515432   {'description': {'urls': []}}               303   \n",
       "224078321  {'description': {'urls': []}}              1188   \n",
       "\n",
       "           follow_request_sent  followers_count  following  friends_count  \\\n",
       "612815277                False              274      False            264   \n",
       "490791079                False              481      False            527   \n",
       "264416315                False              878      False            953   \n",
       "97515432                 False              742      False            701   \n",
       "224078321                False             1030      False           1006   \n",
       "\n",
       "           geo_enabled     id_str  is_translation_enabled  is_translator lang  \\\n",
       "612815277         True  612815277                   False          False   en   \n",
       "490791079         True  490791079                   False          False   en   \n",
       "264416315        False  264416315                   False          False   en   \n",
       "97515432         False   97515432                   False          False   en   \n",
       "224078321         True  224078321                   False          False   en   \n",
       "\n",
       "           listed_count               location          name  notifications  \\\n",
       "612815277             1                               Greggy          False   \n",
       "490791079             1                 9⃣3⃣7⃣        Guff✌️          False   \n",
       "264416315             2            Wonderland   Starqueria.⚓          False   \n",
       "97515432             30  •Carolina South• 843•   . keeleesha          False   \n",
       "224078321             3                     ME         King.          False   \n",
       "\n",
       "          profile_background_color  \\\n",
       "612815277                   131516   \n",
       "490791079                   1A1B1F   \n",
       "264416315                   FCEBB6   \n",
       "97515432                    131516   \n",
       "224078321                   642D8B   \n",
       "\n",
       "                                profile_background_image_url  \\\n",
       "612815277  http://abs.twimg.com/images/themes/theme14/bg.gif   \n",
       "490791079   http://abs.twimg.com/images/themes/theme9/bg.gif   \n",
       "264416315  http://pbs.twimg.com/profile_background_images...   \n",
       "97515432   http://pbs.twimg.com/profile_background_images...   \n",
       "224078321  http://pbs.twimg.com/profile_background_images...   \n",
       "\n",
       "                          profile_background_image_url_https  \\\n",
       "612815277  https://abs.twimg.com/images/themes/theme14/bg...   \n",
       "490791079  https://abs.twimg.com/images/themes/theme9/bg.gif   \n",
       "264416315  https://pbs.twimg.com/profile_background_image...   \n",
       "97515432   https://pbs.twimg.com/profile_background_image...   \n",
       "224078321  https://pbs.twimg.com/profile_background_image...   \n",
       "\n",
       "           profile_background_tile  \\\n",
       "612815277                     True   \n",
       "490791079                    False   \n",
       "264416315                     True   \n",
       "97515432                      True   \n",
       "224078321                     True   \n",
       "\n",
       "                                          profile_banner_url  \\\n",
       "612815277  https://pbs.twimg.com/profile_banners/61281527...   \n",
       "490791079  https://pbs.twimg.com/profile_banners/49079107...   \n",
       "264416315  https://pbs.twimg.com/profile_banners/26441631...   \n",
       "97515432                                                 NaN   \n",
       "224078321  https://pbs.twimg.com/profile_banners/22407832...   \n",
       "\n",
       "                                           profile_image_url  \\\n",
       "612815277  http://pbs.twimg.com/profile_images/4776662828...   \n",
       "490791079  http://pbs.twimg.com/profile_images/5097227545...   \n",
       "264416315  http://pbs.twimg.com/profile_images/5127311352...   \n",
       "97515432   http://pbs.twimg.com/profile_images/4939742059...   \n",
       "224078321  http://pbs.twimg.com/profile_images/5136981503...   \n",
       "\n",
       "                                     profile_image_url_https  \\\n",
       "612815277  https://pbs.twimg.com/profile_images/477666282...   \n",
       "490791079  https://pbs.twimg.com/profile_images/509722754...   \n",
       "264416315  https://pbs.twimg.com/profile_images/512731135...   \n",
       "97515432   https://pbs.twimg.com/profile_images/493974205...   \n",
       "224078321  https://pbs.twimg.com/profile_images/513698150...   \n",
       "\n",
       "          profile_link_color profile_sidebar_border_color  \\\n",
       "612815277             009999                       EEEEEE   \n",
       "490791079             2FC2EF                       181A1E   \n",
       "264416315             CE7834                       F0A830   \n",
       "97515432              009999                       FFFFFF   \n",
       "224078321             FF0091                       FFFFFF   \n",
       "\n",
       "          profile_sidebar_fill_color profile_text_color  \\\n",
       "612815277                     EFEFEF             333333   \n",
       "490791079                     252429             666666   \n",
       "264416315                     78C0A8             5E412F   \n",
       "97515432                      EFEFEF             333333   \n",
       "224078321                     DDEEF6             333333   \n",
       "\n",
       "           profile_use_background_image  protected      screen_name  \\\n",
       "612815277                          True      False  agregtoremember   \n",
       "490791079                          True      False       C_Guffieee   \n",
       "264416315                          True      False      _Starqueria   \n",
       "97515432                           True      False        Keeleesha   \n",
       "224078321                          True      False   loook_backatit   \n",
       "\n",
       "                                                      status  statuses_count  \\\n",
       "612815277  {'retweeted_status': {'retweet_count': 452, 'c...           12230   \n",
       "490791079  {'retweet_count': 0, 'created_at': 'Fri Sep 26...           14680   \n",
       "264416315  {'retweeted_status': {'retweet_count': 2614, '...           22857   \n",
       "97515432   {'retweet_count': 0, 'entities': {'urls': [], ...           71654   \n",
       "224078321  {'retweet_count': 0, 'created_at': 'Fri Sep 26...           19888   \n",
       "\n",
       "                            time_zone   url  utc_offset  verified  \\\n",
       "612815277      Atlantic Time (Canada)  None    -10800.0     False   \n",
       "490791079                      Hawaii  None    -36000.0     False   \n",
       "264416315                      Hawaii  None    -36000.0     False   \n",
       "97515432   Eastern Time (US & Canada)  None    -14400.0     False   \n",
       "224078321                       Quito  None    -18000.0     False   \n",
       "\n",
       "           status_contributors status_coordinates  \\\n",
       "612815277                  NaN               None   \n",
       "490791079                  NaN               None   \n",
       "264416315                  NaN               None   \n",
       "97515432                   NaN               None   \n",
       "224078321                  NaN               None   \n",
       "\n",
       "                        status_created_at  \\\n",
       "612815277  Fri Sep 26 16:49:37 +0000 2014   \n",
       "490791079  Fri Sep 26 17:42:07 +0000 2014   \n",
       "264416315  Fri Sep 26 02:57:32 +0000 2014   \n",
       "97515432   Fri Sep 26 19:10:42 +0000 2014   \n",
       "224078321  Fri Sep 26 13:08:25 +0000 2014   \n",
       "\n",
       "                                             status_entities  \\\n",
       "612815277  {'urls': [], 'user_mentions': [{'id': 15919560...   \n",
       "490791079  {'urls': [], 'user_mentions': [], 'symbols': [...   \n",
       "264416315  {'urls': [], 'media': [{'media_url': 'http://p...   \n",
       "97515432   {'urls': [], 'media': [{'media_url': 'http://p...   \n",
       "224078321  {'urls': [], 'user_mentions': [], 'symbols': [...   \n",
       "\n",
       "           status_favorite_count status_favorited status_geo     status_id  \\\n",
       "612815277                    0.0            False       None  5.155437e+17   \n",
       "490791079                    0.0            False       None  5.155569e+17   \n",
       "264416315                    0.0            False       None  5.153343e+17   \n",
       "97515432                     0.0            False       None  5.155792e+17   \n",
       "224078321                    0.0            False       None  5.154881e+17   \n",
       "\n",
       "                status_id_str status_in_reply_to_screen_name  \\\n",
       "612815277  515543724785684480                           None   \n",
       "490791079  515556938512609280                           None   \n",
       "264416315  515334328113307649                           None   \n",
       "97515432   515579231393562624                           None   \n",
       "224078321  515488059371311104                           None   \n",
       "\n",
       "           status_in_reply_to_status_id status_in_reply_to_status_id_str  \\\n",
       "612815277                           NaN                             None   \n",
       "490791079                           NaN                             None   \n",
       "264416315                           NaN                             None   \n",
       "97515432                            NaN                             None   \n",
       "224078321                           NaN                             None   \n",
       "\n",
       "           status_in_reply_to_user_id status_in_reply_to_user_id_str  \\\n",
       "612815277                         NaN                           None   \n",
       "490791079                         NaN                           None   \n",
       "264416315                         NaN                           None   \n",
       "97515432                          NaN                           None   \n",
       "224078321                         NaN                           None   \n",
       "\n",
       "          status_lang status_place status_possibly_sensitive  \\\n",
       "612815277          en         None                       NaN   \n",
       "490791079          en         None                       NaN   \n",
       "264416315          en         None                     False   \n",
       "97515432           en         None                     False   \n",
       "224078321          en         None                       NaN   \n",
       "\n",
       "           status_retweet_count status_retweeted  \\\n",
       "612815277                 452.0            False   \n",
       "490791079                   0.0            False   \n",
       "264416315                2614.0            False   \n",
       "97515432                    0.0            False   \n",
       "224078321                   0.0            False   \n",
       "\n",
       "                                     status_retweeted_status  \\\n",
       "612815277  {'retweet_count': 452, 'created_at': 'Fri Sep ...   \n",
       "490791079                                                NaN   \n",
       "264416315  {'retweet_count': 2614, 'entities': {'urls': [...   \n",
       "97515432                                                 NaN   \n",
       "224078321                                                NaN   \n",
       "\n",
       "                                               status_source  \\\n",
       "612815277  <a href=\"http://twitter.com/download/android\" ...   \n",
       "490791079  <a href=\"http://twitter.com/download/iphone\" r...   \n",
       "264416315  <a href=\"http://twitter.com/download/android\" ...   \n",
       "97515432   <a href=\"http://www.myplume.com/\" rel=\"nofollo...   \n",
       "224078321  <a href=\"http://twitter.com/download/android\" ...   \n",
       "\n",
       "                                                 status_text status_truncated  \\\n",
       "612815277  RT @DogeTheDog: Wow\\n           So friday\\n   ...            False   \n",
       "490791079  Damn I gotta wait to next week to get the IPho...            False   \n",
       "264416315  RT @ImNeverChillin: How your girl look at you ...            False   \n",
       "97515432   his cake I got for his daycare class. They tor...            False   \n",
       "224078321  Bae got like 2-3 more mnths in jail #freemyboo...            False   \n",
       "\n",
       "           status_0 status_emoji  emoji_cnt  Age age_decade  \n",
       "612815277       NaN                       0   21      16-25  \n",
       "490791079       NaN            😒          1   18      16-25  \n",
       "264416315       NaN                       0   18      16-25  \n",
       "97515432        NaN                       0   23      16-25  \n",
       "224078321       NaN                       0   18      16-25  "
      ]
     },
     "execution_count": 14,
     "metadata": {},
     "output_type": "execute_result"
    }
   ],
   "source": [
    "# Take a look at data\n",
    "age_joined.head()"
   ]
  },
  {
   "cell_type": "markdown",
   "metadata": {},
   "source": [
    "## **Which   age   group   uses   the   most   emojis   in   their   profile   status?"
   ]
  },
  {
   "cell_type": "markdown",
   "metadata": {},
   "source": [
    "**Define 'most emojis'** as total number of emojis used in profile status."
   ]
  },
  {
   "cell_type": "code",
   "execution_count": 15,
   "metadata": {
    "collapsed": false
   },
   "outputs": [
    {
     "data": {
      "text/plain": [
       "<matplotlib.text.Text at 0x11896b240>"
      ]
     },
     "execution_count": 15,
     "metadata": {},
     "output_type": "execute_result"
    },
    {
     "data": {
      "image/png": "[encoded data removed]",
      "text/plain": [
       "<matplotlib.figure.Figure at 0x118892208>"
      ]
     },
     "metadata": {},
     "output_type": "display_data"
    }
   ],
   "source": [
    "# Absolute number of emojis: \n",
    "age_joined.groupby(['age_decade'])['emoji_cnt'].sum().plot(kind='bar', alpha=.7)\n",
    "plt.title('Total number of emojis used in each age group')"
   ]
  },
  {
   "cell_type": "markdown",
   "metadata": {},
   "source": [
    "**How about proportion?** Which age groups has the highest proportion of users that are using emojis in profile status?"
   ]
  },
  {
   "cell_type": "code",
   "execution_count": 16,
   "metadata": {
    "collapsed": false
   },
   "outputs": [
    {
     "data": {
      "text/plain": [
       "age_decade\n",
       "16-25    0.633697\n",
       "26-35    0.411765\n",
       "36-45    0.361111\n",
       "46-55    0.000000\n",
       "56-65    0.200000\n",
       ">65      0.000000\n",
       "dtype: float64"
      ]
     },
     "execution_count": 16,
     "metadata": {},
     "output_type": "execute_result"
    }
   ],
   "source": [
    "# Proportion of using emojis:\n",
    "age_joined.groupby(['age_decade'])['emoji_cnt'].sum() / age_joined.groupby(['age_decade'])['status_text'].count()"
   ]
  },
  {
   "cell_type": "code",
   "execution_count": 17,
   "metadata": {
    "collapsed": false
   },
   "outputs": [
    {
     "data": {
      "text/plain": [
       "<matplotlib.text.Text at 0x118b65f60>"
      ]
     },
     "execution_count": 17,
     "metadata": {},
     "output_type": "execute_result"
    },
    {
     "data": {
      "image/png": "[encoded data removed]",
      "text/plain": [
       "<matplotlib.figure.Figure at 0x118ab77b8>"
      ]
     },
     "metadata": {},
     "output_type": "display_data"
    }
   ],
   "source": [
    "(age_joined.groupby(['age_decade'])['emoji_cnt'].sum() / age_joined.groupby(['age_decade'])['status_text'].count()).plot(kind='bar', alpha=.7)\n",
    "plt.title('Proportion of emojis used in tweets in each age group')"
   ]
  },
  {
   "cell_type": "markdown",
   "metadata": {},
   "source": [
    "## Which is the most common emoji?"
   ]
  },
  {
   "cell_type": "markdown",
   "metadata": {},
   "source": [
    "Define \"most common emoji\" as the emoji used for the largest number of times."
   ]
  },
  {
   "cell_type": "code",
   "execution_count": 18,
   "metadata": {
    "collapsed": true
   },
   "outputs": [],
   "source": [
    "# Stack all status_emoji together into one list, find the most common one:\n",
    "all_emojis_lst = list(filter(None, age_profiles_new.status_emoji.tolist()))"
   ]
  },
  {
   "cell_type": "code",
   "execution_count": 19,
   "metadata": {
    "collapsed": false
   },
   "outputs": [],
   "source": [
    "# Get a string of all emojis:\n",
    "all_emojis = ''.join(x for x in all_emojis_lst)"
   ]
  },
  {
   "cell_type": "code",
   "execution_count": 20,
   "metadata": {
    "collapsed": false
   },
   "outputs": [
    {
     "data": {
      "text/plain": [
       "[('😂', 164), ('😍', 63), ('😩', 53), ('😭', 50), ('🎉', 48)]"
      ]
     },
     "execution_count": 20,
     "metadata": {},
     "output_type": "execute_result"
    }
   ],
   "source": [
    "Counter(all_emojis).most_common(5)"
   ]
  },
  {
   "cell_type": "markdown",
   "metadata": {},
   "source": [
    "**Conclusion:** \n",
    "- 😂 is the most common emoji, with 164 appearances. "
   ]
  }
 ],
 "metadata": {
  "kernelspec": {
   "display_name": "Python [conda env:capstone]",
   "language": "python",
   "name": "conda-env-capstone-py"
  },
  "language_info": {
   "codemirror_mode": {
    "name": "ipython",
    "version": 3
   },
   "file_extension": ".py",
   "mimetype": "text/x-python",
   "name": "python",
   "nbconvert_exporter": "python",
   "pygments_lexer": "ipython3",
   "version": "3.6.1"
  }
 },
 "nbformat": 4,
 "nbformat_minor": 2
}
