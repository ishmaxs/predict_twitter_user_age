{
 "cells": [
  {
   "cell_type": "code",
   "execution_count": 1,
   "metadata": {
    "collapsed": false
   },
   "outputs": [],
   "source": [
    "# using python 3 to better handle unicode emojis\n",
    "import re\n",
    "import emoji\n",
    "import pandas as pd\n",
    "import numpy as np\n",
    "import matplotlib.pyplot as plt\n",
    "import seaborn as sns\n",
    "from collections import Counter\n",
    "from bs4 import BeautifulSoup\n",
    "\n",
    "pd.set_option('display.max_columns',500)\n",
    "pd.set_option('display.max_rows',500)\n",
    "\n",
    "%matplotlib inline"
   ]
  },
  {
   "cell_type": "code",
   "execution_count": 2,
   "metadata": {
    "collapsed": false
   },
   "outputs": [],
   "source": [
    "age_profiles = pd.read_json('assignment_package/age_profiles.json')"
   ]
  },
  {
   "cell_type": "code",
   "execution_count": 3,
   "metadata": {
    "collapsed": false
   },
   "outputs": [
    {
     "name": "stdout",
     "output_type": "stream",
     "text": [
      "<class 'pandas.core.frame.DataFrame'>\n",
      "Int64Index: 2410 entries, 0 to 2409\n",
      "Data columns (total 41 columns):\n",
      "contributors_enabled                  2410 non-null bool\n",
      "created_at                            2410 non-null datetime64[ns]\n",
      "default_profile                       2410 non-null bool\n",
      "default_profile_image                 2410 non-null bool\n",
      "description                           2410 non-null object\n",
      "entities                              2410 non-null object\n",
      "favourites_count                      2410 non-null int64\n",
      "follow_request_sent                   2410 non-null bool\n",
      "followers_count                       2410 non-null int64\n",
      "following                             2410 non-null bool\n",
      "friends_count                         2410 non-null int64\n",
      "geo_enabled                           2410 non-null bool\n",
      "id                                    2410 non-null int64\n",
      "id_str                                2410 non-null int64\n",
      "is_translation_enabled                2410 non-null bool\n",
      "is_translator                         2410 non-null bool\n",
      "lang                                  2410 non-null object\n",
      "listed_count                          2410 non-null int64\n",
      "location                              2410 non-null object\n",
      "name                                  2410 non-null object\n",
      "notifications                         2410 non-null bool\n",
      "profile_background_color              2410 non-null object\n",
      "profile_background_image_url          2410 non-null object\n",
      "profile_background_image_url_https    2410 non-null object\n",
      "profile_background_tile               2410 non-null bool\n",
      "profile_banner_url                    2191 non-null object\n",
      "profile_image_url                     2410 non-null object\n",
      "profile_image_url_https               2410 non-null object\n",
      "profile_link_color                    2410 non-null object\n",
      "profile_sidebar_border_color          2410 non-null object\n",
      "profile_sidebar_fill_color            2410 non-null object\n",
      "profile_text_color                    2410 non-null object\n",
      "profile_use_background_image          2410 non-null bool\n",
      "protected                             2410 non-null bool\n",
      "screen_name                           2410 non-null object\n",
      "status                                2373 non-null object\n",
      "statuses_count                        2410 non-null int64\n",
      "time_zone                             1697 non-null object\n",
      "url                                   550 non-null object\n",
      "utc_offset                            1697 non-null float64\n",
      "verified                              2410 non-null bool\n",
      "dtypes: bool(13), datetime64[ns](1), float64(1), int64(7), object(19)\n",
      "memory usage: 576.6+ KB\n"
     ]
    }
   ],
   "source": [
    "age_profiles.info()"
   ]
  },
  {
   "cell_type": "code",
   "execution_count": 4,
   "metadata": {
    "collapsed": false
   },
   "outputs": [
    {
     "data": {
      "text/html": [
       "<div>\n",
       "<style>\n",
       "    .dataframe thead tr:only-child th {\n",
       "        text-align: right;\n",
       "    }\n",
       "\n",
       "    .dataframe thead th {\n",
       "        text-align: left;\n",
       "    }\n",
       "\n",
       "    .dataframe tbody tr th {\n",
       "        vertical-align: top;\n",
       "    }\n",
       "</style>\n",
       "<table border=\"1\" class=\"dataframe\">\n",
       "  <thead>\n",
       "    <tr style=\"text-align: right;\">\n",
       "      <th></th>\n",
       "      <th>contributors_enabled</th>\n",
       "      <th>created_at</th>\n",
       "      <th>default_profile</th>\n",
       "      <th>default_profile_image</th>\n",
       "      <th>description</th>\n",
       "      <th>entities</th>\n",
       "      <th>favourites_count</th>\n",
       "      <th>follow_request_sent</th>\n",
       "      <th>followers_count</th>\n",
       "      <th>following</th>\n",
       "      <th>friends_count</th>\n",
       "      <th>geo_enabled</th>\n",
       "      <th>id</th>\n",
       "      <th>id_str</th>\n",
       "      <th>is_translation_enabled</th>\n",
       "      <th>is_translator</th>\n",
       "      <th>lang</th>\n",
       "      <th>listed_count</th>\n",
       "      <th>location</th>\n",
       "      <th>name</th>\n",
       "      <th>notifications</th>\n",
       "      <th>profile_background_color</th>\n",
       "      <th>profile_background_image_url</th>\n",
       "      <th>profile_background_image_url_https</th>\n",
       "      <th>profile_background_tile</th>\n",
       "      <th>profile_banner_url</th>\n",
       "      <th>profile_image_url</th>\n",
       "      <th>profile_image_url_https</th>\n",
       "      <th>profile_link_color</th>\n",
       "      <th>profile_sidebar_border_color</th>\n",
       "      <th>profile_sidebar_fill_color</th>\n",
       "      <th>profile_text_color</th>\n",
       "      <th>profile_use_background_image</th>\n",
       "      <th>protected</th>\n",
       "      <th>screen_name</th>\n",
       "      <th>status</th>\n",
       "      <th>statuses_count</th>\n",
       "      <th>time_zone</th>\n",
       "      <th>url</th>\n",
       "      <th>utc_offset</th>\n",
       "      <th>verified</th>\n",
       "    </tr>\n",
       "  </thead>\n",
       "  <tbody>\n",
       "    <tr>\n",
       "      <th>0</th>\n",
       "      <td>False</td>\n",
       "      <td>2012-06-19 17:54:58</td>\n",
       "      <td>False</td>\n",
       "      <td>False</td>\n",
       "      <td>You'll never find another one like me.</td>\n",
       "      <td>{'description': {'urls': []}}</td>\n",
       "      <td>7931</td>\n",
       "      <td>False</td>\n",
       "      <td>274</td>\n",
       "      <td>False</td>\n",
       "      <td>264</td>\n",
       "      <td>True</td>\n",
       "      <td>612815277</td>\n",
       "      <td>612815277</td>\n",
       "      <td>False</td>\n",
       "      <td>False</td>\n",
       "      <td>en</td>\n",
       "      <td>1</td>\n",
       "      <td></td>\n",
       "      <td>Greggy</td>\n",
       "      <td>False</td>\n",
       "      <td>131516</td>\n",
       "      <td>http://abs.twimg.com/images/themes/theme14/bg.gif</td>\n",
       "      <td>https://abs.twimg.com/images/themes/theme14/bg...</td>\n",
       "      <td>True</td>\n",
       "      <td>https://pbs.twimg.com/profile_banners/61281527...</td>\n",
       "      <td>http://pbs.twimg.com/profile_images/4776662828...</td>\n",
       "      <td>https://pbs.twimg.com/profile_images/477666282...</td>\n",
       "      <td>009999</td>\n",
       "      <td>EEEEEE</td>\n",
       "      <td>EFEFEF</td>\n",
       "      <td>333333</td>\n",
       "      <td>True</td>\n",
       "      <td>False</td>\n",
       "      <td>agregtoremember</td>\n",
       "      <td>{'retweeted_status': {'retweet_count': 452, 'c...</td>\n",
       "      <td>12230</td>\n",
       "      <td>Atlantic Time (Canada)</td>\n",
       "      <td>None</td>\n",
       "      <td>-10800.0</td>\n",
       "      <td>False</td>\n",
       "    </tr>\n",
       "    <tr>\n",
       "      <th>1</th>\n",
       "      <td>False</td>\n",
       "      <td>2012-02-12 22:36:17</td>\n",
       "      <td>False</td>\n",
       "      <td>False</td>\n",
       "      <td>If you like me, i probably like you more. {IG:...</td>\n",
       "      <td>{'description': {'urls': []}}</td>\n",
       "      <td>1141</td>\n",
       "      <td>False</td>\n",
       "      <td>481</td>\n",
       "      <td>False</td>\n",
       "      <td>527</td>\n",
       "      <td>True</td>\n",
       "      <td>490791079</td>\n",
       "      <td>490791079</td>\n",
       "      <td>False</td>\n",
       "      <td>False</td>\n",
       "      <td>en</td>\n",
       "      <td>1</td>\n",
       "      <td>9⃣3⃣7⃣</td>\n",
       "      <td>Guff✌️</td>\n",
       "      <td>False</td>\n",
       "      <td>1A1B1F</td>\n",
       "      <td>http://abs.twimg.com/images/themes/theme9/bg.gif</td>\n",
       "      <td>https://abs.twimg.com/images/themes/theme9/bg.gif</td>\n",
       "      <td>False</td>\n",
       "      <td>https://pbs.twimg.com/profile_banners/49079107...</td>\n",
       "      <td>http://pbs.twimg.com/profile_images/5097227545...</td>\n",
       "      <td>https://pbs.twimg.com/profile_images/509722754...</td>\n",
       "      <td>2FC2EF</td>\n",
       "      <td>181A1E</td>\n",
       "      <td>252429</td>\n",
       "      <td>666666</td>\n",
       "      <td>True</td>\n",
       "      <td>False</td>\n",
       "      <td>C_Guffieee</td>\n",
       "      <td>{'retweet_count': 0, 'created_at': 'Fri Sep 26...</td>\n",
       "      <td>14680</td>\n",
       "      <td>Hawaii</td>\n",
       "      <td>None</td>\n",
       "      <td>-36000.0</td>\n",
       "      <td>False</td>\n",
       "    </tr>\n",
       "    <tr>\n",
       "      <th>2</th>\n",
       "      <td>False</td>\n",
       "      <td>2011-03-11 21:44:56</td>\n",
       "      <td>False</td>\n",
       "      <td>False</td>\n",
       "      <td>Success doesn’t come to you…you go to it.</td>\n",
       "      <td>{'description': {'urls': []}}</td>\n",
       "      <td>174</td>\n",
       "      <td>False</td>\n",
       "      <td>878</td>\n",
       "      <td>False</td>\n",
       "      <td>953</td>\n",
       "      <td>False</td>\n",
       "      <td>264416315</td>\n",
       "      <td>264416315</td>\n",
       "      <td>False</td>\n",
       "      <td>False</td>\n",
       "      <td>en</td>\n",
       "      <td>2</td>\n",
       "      <td>Wonderland</td>\n",
       "      <td>Starqueria.⚓</td>\n",
       "      <td>False</td>\n",
       "      <td>FCEBB6</td>\n",
       "      <td>http://pbs.twimg.com/profile_background_images...</td>\n",
       "      <td>https://pbs.twimg.com/profile_background_image...</td>\n",
       "      <td>True</td>\n",
       "      <td>https://pbs.twimg.com/profile_banners/26441631...</td>\n",
       "      <td>http://pbs.twimg.com/profile_images/5127311352...</td>\n",
       "      <td>https://pbs.twimg.com/profile_images/512731135...</td>\n",
       "      <td>CE7834</td>\n",
       "      <td>F0A830</td>\n",
       "      <td>78C0A8</td>\n",
       "      <td>5E412F</td>\n",
       "      <td>True</td>\n",
       "      <td>False</td>\n",
       "      <td>_Starqueria</td>\n",
       "      <td>{'retweeted_status': {'retweet_count': 2614, '...</td>\n",
       "      <td>22857</td>\n",
       "      <td>Hawaii</td>\n",
       "      <td>None</td>\n",
       "      <td>-36000.0</td>\n",
       "      <td>False</td>\n",
       "    </tr>\n",
       "    <tr>\n",
       "      <th>3</th>\n",
       "      <td>False</td>\n",
       "      <td>2009-12-17 20:08:55</td>\n",
       "      <td>False</td>\n",
       "      <td>False</td>\n",
       "      <td>NEVER care about what a person says that doesn...</td>\n",
       "      <td>{'description': {'urls': []}}</td>\n",
       "      <td>303</td>\n",
       "      <td>False</td>\n",
       "      <td>742</td>\n",
       "      <td>False</td>\n",
       "      <td>701</td>\n",
       "      <td>False</td>\n",
       "      <td>97515432</td>\n",
       "      <td>97515432</td>\n",
       "      <td>False</td>\n",
       "      <td>False</td>\n",
       "      <td>en</td>\n",
       "      <td>30</td>\n",
       "      <td>•Carolina South• 843•</td>\n",
       "      <td>. keeleesha</td>\n",
       "      <td>False</td>\n",
       "      <td>131516</td>\n",
       "      <td>http://pbs.twimg.com/profile_background_images...</td>\n",
       "      <td>https://pbs.twimg.com/profile_background_image...</td>\n",
       "      <td>True</td>\n",
       "      <td>NaN</td>\n",
       "      <td>http://pbs.twimg.com/profile_images/4939742059...</td>\n",
       "      <td>https://pbs.twimg.com/profile_images/493974205...</td>\n",
       "      <td>009999</td>\n",
       "      <td>FFFFFF</td>\n",
       "      <td>EFEFEF</td>\n",
       "      <td>333333</td>\n",
       "      <td>True</td>\n",
       "      <td>False</td>\n",
       "      <td>Keeleesha</td>\n",
       "      <td>{'retweet_count': 0, 'entities': {'urls': [], ...</td>\n",
       "      <td>71654</td>\n",
       "      <td>Eastern Time (US &amp; Canada)</td>\n",
       "      <td>None</td>\n",
       "      <td>-14400.0</td>\n",
       "      <td>False</td>\n",
       "    </tr>\n",
       "    <tr>\n",
       "      <th>4</th>\n",
       "      <td>False</td>\n",
       "      <td>2011-03-24 21:14:53</td>\n",
       "      <td>False</td>\n",
       "      <td>False</td>\n",
       "      <td>these niggas some haters &amp; i made myself so ea...</td>\n",
       "      <td>{'description': {'urls': []}}</td>\n",
       "      <td>52</td>\n",
       "      <td>False</td>\n",
       "      <td>729</td>\n",
       "      <td>False</td>\n",
       "      <td>688</td>\n",
       "      <td>False</td>\n",
       "      <td>271608323</td>\n",
       "      <td>271608323</td>\n",
       "      <td>False</td>\n",
       "      <td>False</td>\n",
       "      <td>en</td>\n",
       "      <td>0</td>\n",
       "      <td>Seven•five•Seven</td>\n",
       "      <td>killakee :)</td>\n",
       "      <td>False</td>\n",
       "      <td>0A0A0A</td>\n",
       "      <td>http://pbs.twimg.com/profile_background_images...</td>\n",
       "      <td>https://pbs.twimg.com/profile_background_image...</td>\n",
       "      <td>True</td>\n",
       "      <td>https://pbs.twimg.com/profile_banners/27160832...</td>\n",
       "      <td>http://pbs.twimg.com/profile_images/4627093362...</td>\n",
       "      <td>https://pbs.twimg.com/profile_images/462709336...</td>\n",
       "      <td>D62D0F</td>\n",
       "      <td>000000</td>\n",
       "      <td>000000</td>\n",
       "      <td>A3A3A3</td>\n",
       "      <td>True</td>\n",
       "      <td>False</td>\n",
       "      <td>KeeLashawn_</td>\n",
       "      <td>{'retweet_count': 0, 'entities': {'urls': [{'e...</td>\n",
       "      <td>48452</td>\n",
       "      <td>Eastern Time (US &amp; Canada)</td>\n",
       "      <td>None</td>\n",
       "      <td>-14400.0</td>\n",
       "      <td>False</td>\n",
       "    </tr>\n",
       "  </tbody>\n",
       "</table>\n",
       "</div>"
      ],
      "text/plain": [
       "   contributors_enabled          created_at  default_profile  \\\n",
       "0                 False 2012-06-19 17:54:58            False   \n",
       "1                 False 2012-02-12 22:36:17            False   \n",
       "2                 False 2011-03-11 21:44:56            False   \n",
       "3                 False 2009-12-17 20:08:55            False   \n",
       "4                 False 2011-03-24 21:14:53            False   \n",
       "\n",
       "   default_profile_image                                        description  \\\n",
       "0                  False             You'll never find another one like me.   \n",
       "1                  False  If you like me, i probably like you more. {IG:...   \n",
       "2                  False          Success doesn’t come to you…you go to it.   \n",
       "3                  False  NEVER care about what a person says that doesn...   \n",
       "4                  False  these niggas some haters & i made myself so ea...   \n",
       "\n",
       "                        entities  favourites_count  follow_request_sent  \\\n",
       "0  {'description': {'urls': []}}              7931                False   \n",
       "1  {'description': {'urls': []}}              1141                False   \n",
       "2  {'description': {'urls': []}}               174                False   \n",
       "3  {'description': {'urls': []}}               303                False   \n",
       "4  {'description': {'urls': []}}                52                False   \n",
       "\n",
       "   followers_count  following  friends_count  geo_enabled         id  \\\n",
       "0              274      False            264         True  612815277   \n",
       "1              481      False            527         True  490791079   \n",
       "2              878      False            953        False  264416315   \n",
       "3              742      False            701        False   97515432   \n",
       "4              729      False            688        False  271608323   \n",
       "\n",
       "      id_str  is_translation_enabled  is_translator lang  listed_count  \\\n",
       "0  612815277                   False          False   en             1   \n",
       "1  490791079                   False          False   en             1   \n",
       "2  264416315                   False          False   en             2   \n",
       "3   97515432                   False          False   en            30   \n",
       "4  271608323                   False          False   en             0   \n",
       "\n",
       "                location          name  notifications  \\\n",
       "0                               Greggy          False   \n",
       "1                 9⃣3⃣7⃣        Guff✌️          False   \n",
       "2            Wonderland   Starqueria.⚓          False   \n",
       "3  •Carolina South• 843•   . keeleesha          False   \n",
       "4       Seven•five•Seven   killakee :)          False   \n",
       "\n",
       "  profile_background_color                       profile_background_image_url  \\\n",
       "0                   131516  http://abs.twimg.com/images/themes/theme14/bg.gif   \n",
       "1                   1A1B1F   http://abs.twimg.com/images/themes/theme9/bg.gif   \n",
       "2                   FCEBB6  http://pbs.twimg.com/profile_background_images...   \n",
       "3                   131516  http://pbs.twimg.com/profile_background_images...   \n",
       "4                   0A0A0A  http://pbs.twimg.com/profile_background_images...   \n",
       "\n",
       "                  profile_background_image_url_https  profile_background_tile  \\\n",
       "0  https://abs.twimg.com/images/themes/theme14/bg...                     True   \n",
       "1  https://abs.twimg.com/images/themes/theme9/bg.gif                    False   \n",
       "2  https://pbs.twimg.com/profile_background_image...                     True   \n",
       "3  https://pbs.twimg.com/profile_background_image...                     True   \n",
       "4  https://pbs.twimg.com/profile_background_image...                     True   \n",
       "\n",
       "                                  profile_banner_url  \\\n",
       "0  https://pbs.twimg.com/profile_banners/61281527...   \n",
       "1  https://pbs.twimg.com/profile_banners/49079107...   \n",
       "2  https://pbs.twimg.com/profile_banners/26441631...   \n",
       "3                                                NaN   \n",
       "4  https://pbs.twimg.com/profile_banners/27160832...   \n",
       "\n",
       "                                   profile_image_url  \\\n",
       "0  http://pbs.twimg.com/profile_images/4776662828...   \n",
       "1  http://pbs.twimg.com/profile_images/5097227545...   \n",
       "2  http://pbs.twimg.com/profile_images/5127311352...   \n",
       "3  http://pbs.twimg.com/profile_images/4939742059...   \n",
       "4  http://pbs.twimg.com/profile_images/4627093362...   \n",
       "\n",
       "                             profile_image_url_https profile_link_color  \\\n",
       "0  https://pbs.twimg.com/profile_images/477666282...             009999   \n",
       "1  https://pbs.twimg.com/profile_images/509722754...             2FC2EF   \n",
       "2  https://pbs.twimg.com/profile_images/512731135...             CE7834   \n",
       "3  https://pbs.twimg.com/profile_images/493974205...             009999   \n",
       "4  https://pbs.twimg.com/profile_images/462709336...             D62D0F   \n",
       "\n",
       "  profile_sidebar_border_color profile_sidebar_fill_color profile_text_color  \\\n",
       "0                       EEEEEE                     EFEFEF             333333   \n",
       "1                       181A1E                     252429             666666   \n",
       "2                       F0A830                     78C0A8             5E412F   \n",
       "3                       FFFFFF                     EFEFEF             333333   \n",
       "4                       000000                     000000             A3A3A3   \n",
       "\n",
       "   profile_use_background_image  protected      screen_name  \\\n",
       "0                          True      False  agregtoremember   \n",
       "1                          True      False       C_Guffieee   \n",
       "2                          True      False      _Starqueria   \n",
       "3                          True      False        Keeleesha   \n",
       "4                          True      False      KeeLashawn_   \n",
       "\n",
       "                                              status  statuses_count  \\\n",
       "0  {'retweeted_status': {'retweet_count': 452, 'c...           12230   \n",
       "1  {'retweet_count': 0, 'created_at': 'Fri Sep 26...           14680   \n",
       "2  {'retweeted_status': {'retweet_count': 2614, '...           22857   \n",
       "3  {'retweet_count': 0, 'entities': {'urls': [], ...           71654   \n",
       "4  {'retweet_count': 0, 'entities': {'urls': [{'e...           48452   \n",
       "\n",
       "                    time_zone   url  utc_offset  verified  \n",
       "0      Atlantic Time (Canada)  None    -10800.0     False  \n",
       "1                      Hawaii  None    -36000.0     False  \n",
       "2                      Hawaii  None    -36000.0     False  \n",
       "3  Eastern Time (US & Canada)  None    -14400.0     False  \n",
       "4  Eastern Time (US & Canada)  None    -14400.0     False  "
      ]
     },
     "execution_count": 4,
     "metadata": {},
     "output_type": "execute_result"
    }
   ],
   "source": [
    "age_profiles.head()"
   ]
  },
  {
   "cell_type": "code",
   "execution_count": 5,
   "metadata": {
    "collapsed": false
   },
   "outputs": [
    {
     "data": {
      "text/html": [
       "<div>\n",
       "<style>\n",
       "    .dataframe thead tr:only-child th {\n",
       "        text-align: right;\n",
       "    }\n",
       "\n",
       "    .dataframe thead th {\n",
       "        text-align: left;\n",
       "    }\n",
       "\n",
       "    .dataframe tbody tr th {\n",
       "        vertical-align: top;\n",
       "    }\n",
       "</style>\n",
       "<table border=\"1\" class=\"dataframe\">\n",
       "  <thead>\n",
       "    <tr style=\"text-align: right;\">\n",
       "      <th></th>\n",
       "      <th>favourites_count</th>\n",
       "      <th>followers_count</th>\n",
       "      <th>friends_count</th>\n",
       "      <th>id</th>\n",
       "      <th>id_str</th>\n",
       "      <th>listed_count</th>\n",
       "      <th>statuses_count</th>\n",
       "      <th>utc_offset</th>\n",
       "    </tr>\n",
       "  </thead>\n",
       "  <tbody>\n",
       "    <tr>\n",
       "      <th>count</th>\n",
       "      <td>2410.000000</td>\n",
       "      <td>2410.000000</td>\n",
       "      <td>2410.000000</td>\n",
       "      <td>2.410000e+03</td>\n",
       "      <td>2.410000e+03</td>\n",
       "      <td>2410.000000</td>\n",
       "      <td>2410.000000</td>\n",
       "      <td>1697.000000</td>\n",
       "    </tr>\n",
       "    <tr>\n",
       "      <th>mean</th>\n",
       "      <td>1800.120332</td>\n",
       "      <td>944.855187</td>\n",
       "      <td>689.358921</td>\n",
       "      <td>6.918280e+08</td>\n",
       "      <td>6.918280e+08</td>\n",
       "      <td>5.470124</td>\n",
       "      <td>16982.506224</td>\n",
       "      <td>-12402.710666</td>\n",
       "    </tr>\n",
       "    <tr>\n",
       "      <th>std</th>\n",
       "      <td>3884.458445</td>\n",
       "      <td>7083.829476</td>\n",
       "      <td>4970.227333</td>\n",
       "      <td>7.953757e+08</td>\n",
       "      <td>7.953757e+08</td>\n",
       "      <td>34.984290</td>\n",
       "      <td>25033.534126</td>\n",
       "      <td>15420.244205</td>\n",
       "    </tr>\n",
       "    <tr>\n",
       "      <th>min</th>\n",
       "      <td>0.000000</td>\n",
       "      <td>0.000000</td>\n",
       "      <td>-69.000000</td>\n",
       "      <td>2.025381e+06</td>\n",
       "      <td>2.025381e+06</td>\n",
       "      <td>0.000000</td>\n",
       "      <td>0.000000</td>\n",
       "      <td>-39600.000000</td>\n",
       "    </tr>\n",
       "    <tr>\n",
       "      <th>25%</th>\n",
       "      <td>103.000000</td>\n",
       "      <td>160.000000</td>\n",
       "      <td>179.000000</td>\n",
       "      <td>1.592982e+08</td>\n",
       "      <td>1.592982e+08</td>\n",
       "      <td>0.000000</td>\n",
       "      <td>1960.250000</td>\n",
       "      <td>-18000.000000</td>\n",
       "    </tr>\n",
       "    <tr>\n",
       "      <th>50%</th>\n",
       "      <td>543.000000</td>\n",
       "      <td>348.000000</td>\n",
       "      <td>340.000000</td>\n",
       "      <td>3.508023e+08</td>\n",
       "      <td>3.508023e+08</td>\n",
       "      <td>1.000000</td>\n",
       "      <td>7408.500000</td>\n",
       "      <td>-18000.000000</td>\n",
       "    </tr>\n",
       "    <tr>\n",
       "      <th>75%</th>\n",
       "      <td>1949.500000</td>\n",
       "      <td>700.250000</td>\n",
       "      <td>628.000000</td>\n",
       "      <td>8.804243e+08</td>\n",
       "      <td>8.804243e+08</td>\n",
       "      <td>3.000000</td>\n",
       "      <td>21565.250000</td>\n",
       "      <td>-10800.000000</td>\n",
       "    </tr>\n",
       "    <tr>\n",
       "      <th>max</th>\n",
       "      <td>99169.000000</td>\n",
       "      <td>258937.000000</td>\n",
       "      <td>202293.000000</td>\n",
       "      <td>2.832494e+09</td>\n",
       "      <td>2.832494e+09</td>\n",
       "      <td>1292.000000</td>\n",
       "      <td>257590.000000</td>\n",
       "      <td>43200.000000</td>\n",
       "    </tr>\n",
       "  </tbody>\n",
       "</table>\n",
       "</div>"
      ],
      "text/plain": [
       "       favourites_count  followers_count  friends_count            id  \\\n",
       "count       2410.000000      2410.000000    2410.000000  2.410000e+03   \n",
       "mean        1800.120332       944.855187     689.358921  6.918280e+08   \n",
       "std         3884.458445      7083.829476    4970.227333  7.953757e+08   \n",
       "min            0.000000         0.000000     -69.000000  2.025381e+06   \n",
       "25%          103.000000       160.000000     179.000000  1.592982e+08   \n",
       "50%          543.000000       348.000000     340.000000  3.508023e+08   \n",
       "75%         1949.500000       700.250000     628.000000  8.804243e+08   \n",
       "max        99169.000000    258937.000000  202293.000000  2.832494e+09   \n",
       "\n",
       "             id_str  listed_count  statuses_count    utc_offset  \n",
       "count  2.410000e+03   2410.000000     2410.000000   1697.000000  \n",
       "mean   6.918280e+08      5.470124    16982.506224 -12402.710666  \n",
       "std    7.953757e+08     34.984290    25033.534126  15420.244205  \n",
       "min    2.025381e+06      0.000000        0.000000 -39600.000000  \n",
       "25%    1.592982e+08      0.000000     1960.250000 -18000.000000  \n",
       "50%    3.508023e+08      1.000000     7408.500000 -18000.000000  \n",
       "75%    8.804243e+08      3.000000    21565.250000 -10800.000000  \n",
       "max    2.832494e+09   1292.000000   257590.000000  43200.000000  "
      ]
     },
     "execution_count": 5,
     "metadata": {},
     "output_type": "execute_result"
    }
   ],
   "source": [
    "age_profiles.describe()"
   ]
  },
  {
   "cell_type": "markdown",
   "metadata": {},
   "source": [
    "## Qu 1. \n",
    "Make   histograms   of   followers   count,   friends   count,   favorite   count,   and   status count,   all   of   which   are   in    age_profiles.csv ."
   ]
  },
  {
   "cell_type": "code",
   "execution_count": 6,
   "metadata": {
    "collapsed": false
   },
   "outputs": [
    {
     "data": {
      "text/plain": [
       "<matplotlib.text.Text at 0x11e75a780>"
      ]
     },
     "execution_count": 6,
     "metadata": {},
     "output_type": "execute_result"
    },
    {
     "data": {
      "image/png": "[encoded data removed]",
      "text/plain": [
       "<matplotlib.figure.Figure at 0x11e65cc18>"
      ]
     },
     "metadata": {},
     "output_type": "display_data"
    }
   ],
   "source": [
    "age_profiles.favourites_count.hist(bins=30, figsize=(9,4))\n",
    "plt.title('Histogram of favourites count')"
   ]
  },
  {
   "cell_type": "code",
   "execution_count": 7,
   "metadata": {
    "collapsed": false
   },
   "outputs": [
    {
     "data": {
      "text/plain": [
       "<matplotlib.text.Text at 0x11ec2fb70>"
      ]
     },
     "execution_count": 7,
     "metadata": {},
     "output_type": "execute_result"
    },
    {
     "data": {
      "image/png": "[encoded data removed]",
      "text/plain": [
       "<matplotlib.figure.Figure at 0x11eaf57b8>"
      ]
     },
     "metadata": {},
     "output_type": "display_data"
    }
   ],
   "source": [
    "age_profiles[age_profiles['favourites_count']<2000]['favourites_count'].hist(bins=30, figsize=(9,4))\n",
    "plt.title('Histogram of favourites count < 2000')"
   ]
  },
  {
   "cell_type": "code",
   "execution_count": 8,
   "metadata": {
    "collapsed": false
   },
   "outputs": [
    {
     "data": {
      "text/plain": [
       "<matplotlib.text.Text at 0x11f0ef6d8>"
      ]
     },
     "execution_count": 8,
     "metadata": {},
     "output_type": "execute_result"
    },
    {
     "data": {
      "image/png": "[encoded data removed]",
      "text/plain": [
       "<matplotlib.figure.Figure at 0x11b0e4f98>"
      ]
     },
     "metadata": {},
     "output_type": "display_data"
    }
   ],
   "source": [
    "age_profiles.followers_count.hist(bins=30, figsize=(9,4))\n",
    "plt.title('Histogram of followers count')"
   ]
  },
  {
   "cell_type": "code",
   "execution_count": 9,
   "metadata": {
    "collapsed": false
   },
   "outputs": [
    {
     "data": {
      "text/plain": [
       "<matplotlib.text.Text at 0x11f592978>"
      ]
     },
     "execution_count": 9,
     "metadata": {},
     "output_type": "execute_result"
    },
    {
     "data": {
      "image/png": "[encoded data removed]",
      "text/plain": [
       "<matplotlib.figure.Figure at 0x11f3c0518>"
      ]
     },
     "metadata": {},
     "output_type": "display_data"
    }
   ],
   "source": [
    "age_profiles[age_profiles['followers_count']<1000].followers_count.hist(bins=30, figsize=(9,4))\n",
    "plt.title('Histogram of followers count < 1000')"
   ]
  },
  {
   "cell_type": "code",
   "execution_count": 10,
   "metadata": {
    "collapsed": false
   },
   "outputs": [
    {
     "data": {
      "text/plain": [
       "<matplotlib.text.Text at 0x11fa1ce80>"
      ]
     },
     "execution_count": 10,
     "metadata": {},
     "output_type": "execute_result"
    },
    {
     "data": {
      "image/png": "[encoded data removed]",
      "text/plain": [
       "<matplotlib.figure.Figure at 0x11f412dd8>"
      ]
     },
     "metadata": {},
     "output_type": "display_data"
    }
   ],
   "source": [
    "age_profiles.friends_count.hist(bins=30, figsize=(9,4))\n",
    "plt.title('Histogram of friends count')"
   ]
  },
  {
   "cell_type": "code",
   "execution_count": 11,
   "metadata": {
    "collapsed": false
   },
   "outputs": [
    {
     "data": {
      "text/plain": [
       "<matplotlib.text.Text at 0x11ff07f28>"
      ]
     },
     "execution_count": 11,
     "metadata": {},
     "output_type": "execute_result"
    },
    {
     "data": {
      "image/png": "[encoded data removed]",
      "text/plain": [
       "<matplotlib.figure.Figure at 0x11fd4d2e8>"
      ]
     },
     "metadata": {},
     "output_type": "display_data"
    }
   ],
   "source": [
    "age_profiles[age_profiles['friends_count']<1000].friends_count.hist(bins=30, figsize=(9,4))\n",
    "plt.title('Histogram of friends count < 1000')"
   ]
  },
  {
   "cell_type": "code",
   "execution_count": 12,
   "metadata": {
    "collapsed": false
   },
   "outputs": [
    {
     "data": {
      "text/plain": [
       "<matplotlib.text.Text at 0x123907a20>"
      ]
     },
     "execution_count": 12,
     "metadata": {},
     "output_type": "execute_result"
    },
    {
     "data": {
      "image/png": "[encoded data removed]",
      "text/plain": [
       "<matplotlib.figure.Figure at 0x11fd959b0>"
      ]
     },
     "metadata": {},
     "output_type": "display_data"
    }
   ],
   "source": [
    "age_profiles.statuses_count.hist(bins=30, figsize=(9,4))\n",
    "plt.title('Histogram of status count')"
   ]
  },
  {
   "cell_type": "code",
   "execution_count": 13,
   "metadata": {
    "collapsed": false
   },
   "outputs": [
    {
     "data": {
      "text/plain": [
       "<matplotlib.text.Text at 0x123a4b470>"
      ]
     },
     "execution_count": 13,
     "metadata": {},
     "output_type": "execute_result"
    },
    {
     "data": {
      "image/png": "[encoded data removed]",
      "text/plain": [
       "<matplotlib.figure.Figure at 0x123a165f8>"
      ]
     },
     "metadata": {},
     "output_type": "display_data"
    }
   ],
   "source": [
    "age_profiles[age_profiles['statuses_count']<20000]['statuses_count'].hist(bins=30, figsize=(9,4))\n",
    "plt.title('Histogram of status count < 20000')"
   ]
  },
  {
   "cell_type": "code",
   "execution_count": 14,
   "metadata": {
    "collapsed": false
   },
   "outputs": [
    {
     "data": {
      "text/html": [
       "<div>\n",
       "<style>\n",
       "    .dataframe thead tr:only-child th {\n",
       "        text-align: right;\n",
       "    }\n",
       "\n",
       "    .dataframe thead th {\n",
       "        text-align: left;\n",
       "    }\n",
       "\n",
       "    .dataframe tbody tr th {\n",
       "        vertical-align: top;\n",
       "    }\n",
       "</style>\n",
       "<table border=\"1\" class=\"dataframe\">\n",
       "  <thead>\n",
       "    <tr style=\"text-align: right;\">\n",
       "      <th></th>\n",
       "      <th>favourites_count</th>\n",
       "      <th>followers_count</th>\n",
       "      <th>friends_count</th>\n",
       "      <th>statuses_count</th>\n",
       "    </tr>\n",
       "  </thead>\n",
       "  <tbody>\n",
       "    <tr>\n",
       "      <th>favourites_count</th>\n",
       "      <td>1.000000</td>\n",
       "      <td>0.020342</td>\n",
       "      <td>0.002715</td>\n",
       "      <td>0.171091</td>\n",
       "    </tr>\n",
       "    <tr>\n",
       "      <th>followers_count</th>\n",
       "      <td>0.020342</td>\n",
       "      <td>1.000000</td>\n",
       "      <td>0.935946</td>\n",
       "      <td>0.077311</td>\n",
       "    </tr>\n",
       "    <tr>\n",
       "      <th>friends_count</th>\n",
       "      <td>0.002715</td>\n",
       "      <td>0.935946</td>\n",
       "      <td>1.000000</td>\n",
       "      <td>0.030932</td>\n",
       "    </tr>\n",
       "    <tr>\n",
       "      <th>statuses_count</th>\n",
       "      <td>0.171091</td>\n",
       "      <td>0.077311</td>\n",
       "      <td>0.030932</td>\n",
       "      <td>1.000000</td>\n",
       "    </tr>\n",
       "  </tbody>\n",
       "</table>\n",
       "</div>"
      ],
      "text/plain": [
       "                  favourites_count  followers_count  friends_count  \\\n",
       "favourites_count          1.000000         0.020342       0.002715   \n",
       "followers_count           0.020342         1.000000       0.935946   \n",
       "friends_count             0.002715         0.935946       1.000000   \n",
       "statuses_count            0.171091         0.077311       0.030932   \n",
       "\n",
       "                  statuses_count  \n",
       "favourites_count        0.171091  \n",
       "followers_count         0.077311  \n",
       "friends_count           0.030932  \n",
       "statuses_count          1.000000  "
      ]
     },
     "execution_count": 14,
     "metadata": {},
     "output_type": "execute_result"
    }
   ],
   "source": [
    "age_profiles[['favourites_count','followers_count', 'friends_count', 'statuses_count']].corr()"
   ]
  },
  {
   "cell_type": "markdown",
   "metadata": {},
   "source": [
    "## Insights: \n",
    "1. Friends and followers are strongly correlated, with a correlation of 0.9359.\n",
    "2. Statuses_count and favourites_count are extremely weakly correlated, with a correlation of 0.1711.\n",
    "3. statuses_count and followers_count/friends_count are extremely weakly correlated, with a correlation of 0.0773 and 0.0309."
   ]
  },
  {
   "cell_type": "code",
   "execution_count": 15,
   "metadata": {
    "collapsed": false
   },
   "outputs": [
    {
     "data": {
      "text/plain": [
       "<matplotlib.axes._subplots.AxesSubplot at 0x123a44668>"
      ]
     },
     "execution_count": 15,
     "metadata": {},
     "output_type": "execute_result"
    },
    {
     "data": {
      "image/png": "[encoded data removed]",
      "text/plain": [
       "<matplotlib.figure.Figure at 0x1238f1be0>"
      ]
     },
     "metadata": {},
     "output_type": "display_data"
    }
   ],
   "source": [
    "# plot correlation matrix: \n",
    "corr = age_profiles[['favourites_count','followers_count', 'friends_count', 'statuses_count']].corr()\n",
    "\n",
    "# Generate a mask for the upper triangle\n",
    "mask = np.zeros_like(corr, dtype=np.bool)\n",
    "mask[np.triu_indices_from(mask)] = True\n",
    "\n",
    "# Set up the matplotlib figure\n",
    "f, ax = plt.subplots(figsize=(10, 6))\n",
    "\n",
    "# Generate a custom diverging colormap\n",
    "cmap = sns.diverging_palette(220, 10, as_cmap=True)\n",
    "\n",
    "# Draw the heatmap with the mask and correct aspect ratio\n",
    "sns.heatmap(corr, mask=mask, cmap=cmap, vmax=1.0, center=0,\n",
    "            square=True, linewidths=.5, cbar_kws={\"shrink\": .5})"
   ]
  },
  {
   "cell_type": "markdown",
   "metadata": {},
   "source": [
    "## Qu 2. \n",
    "Which   time   zone   has   the   highest   proportion   of   known   iOS   users   in age_profiles.csv ?      Which   time   zone   has   the   highest   proportion   of   Android   users?"
   ]
  },
  {
   "cell_type": "code",
   "execution_count": 16,
   "metadata": {
    "collapsed": false
   },
   "outputs": [
    {
     "name": "stderr",
     "output_type": "stream",
     "text": [
      "//anaconda/envs/capstone/lib/python3.6/site-packages/pandas/core/indexes/api.py:43: RuntimeWarning: '>' not supported between instances of 'int' and 'str', sort order is undefined for incomparable objects\n",
      "  union = _union_indexes(indexes)\n",
      "//anaconda/envs/capstone/lib/python3.6/site-packages/pandas/core/indexes/api.py:77: RuntimeWarning: '>' not supported between instances of 'int' and 'str', sort order is undefined for incomparable objects\n",
      "  result = result.union(other)\n"
     ]
    }
   ],
   "source": [
    "ap_new = pd.concat([age_profiles,\n",
    "                    pd.DataFrame(age_profiles['status'].apply(pd.Series) \\\n",
    "                    .rename(columns = lambda x: 'status_' + str(x)))], axis=1)"
   ]
  },
  {
   "cell_type": "code",
   "execution_count": 17,
   "metadata": {
    "collapsed": true
   },
   "outputs": [],
   "source": [
    "# define ios devices:\n",
    "ios = ['Twitter for iPhone', 'Twitter for iPad', 'iOS', 'Twitter for Mac', 'Tweetbot for Mac',\n",
    "       'TweetCaster for iOS', 'Tweetbot for iΟS', 'Osfoora for iOS', 'UberSocial for iPhone', 'OS X',\n",
    "       'Instagram on iOS', '8 Ball Pool™ on iOS', 'Photos on iOS']"
   ]
  },
  {
   "cell_type": "code",
   "execution_count": 18,
   "metadata": {
    "collapsed": true
   },
   "outputs": [],
   "source": [
    "# define Android devices:\n",
    "android = ['Twitter for Android', 'TweetCaster for Android', 'Plume for Android',\n",
    "          'Twitter for Android Tablets', 'Twitter for  Android', 'UberSocial for Android',\n",
    "          'Vine for Android', 'Fenix for Android', 'Echofon  Android']"
   ]
  },
  {
   "cell_type": "code",
   "execution_count": 19,
   "metadata": {
    "collapsed": false
   },
   "outputs": [],
   "source": [
    "ap_new['source_parsed'] = ap_new['status_source'].apply(lambda x: BeautifulSoup(str(x),'html.parser').text)"
   ]
  },
  {
   "cell_type": "code",
   "execution_count": 20,
   "metadata": {
    "collapsed": false
   },
   "outputs": [],
   "source": [
    "# create a new column as source_ios, in order to get proportion\n",
    "ap_new['source_ios'] = (ap_new['source_parsed'].isin(ios)).astype(int)\n",
    "ap_new['source_android'] = (ap_new['source_parsed'].isin(android)).astype(int)"
   ]
  },
  {
   "cell_type": "code",
   "execution_count": 21,
   "metadata": {
    "collapsed": false
   },
   "outputs": [
    {
     "data": {
      "text/plain": [
       "<matplotlib.text.Text at 0x123f13748>"
      ]
     },
     "execution_count": 21,
     "metadata": {},
     "output_type": "execute_result"
    },
    {
     "data": {
      "image/png": "[encoded data removed]",
      "text/plain": [
       "<matplotlib.figure.Figure at 0x123f32198>"
      ]
     },
     "metadata": {},
     "output_type": "display_data"
    }
   ],
   "source": [
    "(ap_new['source_ios'].groupby(ap_new['time_zone']).sum() / \n",
    "ap_new['source_ios'].groupby(ap_new['time_zone']).count()).nlargest(30).sort_values() \\\n",
    ".plot(kind='barh', figsize=(9,6), alpha=.7)\n",
    "plt.title(' % of iOS user by geo location')"
   ]
  },
  {
   "cell_type": "code",
   "execution_count": 22,
   "metadata": {
    "collapsed": false
   },
   "outputs": [
    {
     "data": {
      "text/plain": [
       "<matplotlib.text.Text at 0x123e5a400>"
      ]
     },
     "execution_count": 22,
     "metadata": {},
     "output_type": "execute_result"
    },
    {
     "data": {
      "image/png": "[encoded data removed]",
      "text/plain": [
       "<matplotlib.figure.Figure at 0x123eca390>"
      ]
     },
     "metadata": {},
     "output_type": "display_data"
    }
   ],
   "source": [
    "(ap_new['source_android'].groupby(ap_new['time_zone']).sum() / \n",
    "ap_new['source_android'].groupby(ap_new['time_zone']).count()).nlargest(30).sort_values() \\\n",
    ".plot(kind='barh', figsize=(9,6), color='g',alpha=.7)\n",
    "plt.title(' % of Android user by geo location')"
   ]
  },
  {
   "cell_type": "markdown",
   "metadata": {},
   "source": [
    "**Reason:** time_zone input is messy, \"America/New_York\" is actually the same with \"Eastern Time\", \"America/New_York\" only has 15 data points, and all of them are from Android devices. In order to get more accurate result, more data cleaning work need to be done."
   ]
  },
  {
   "cell_type": "markdown",
   "metadata": {},
   "source": [
    "## Qu 3.\n",
    "Use   the   “mentions”   data   in    mentions.csv    to   come   up   with   a   list   of   Twitter   handles that   were   mentioned   by   more   than   one   user."
   ]
  },
  {
   "cell_type": "code",
   "execution_count": 23,
   "metadata": {
    "collapsed": true
   },
   "outputs": [],
   "source": [
    "mentions = pd.read_csv('assignment_package/mentions.csv')"
   ]
  },
  {
   "cell_type": "code",
   "execution_count": 24,
   "metadata": {
    "collapsed": false
   },
   "outputs": [
    {
     "name": "stdout",
     "output_type": "stream",
     "text": [
      "<class 'pandas.core.frame.DataFrame'>\n",
      "RangeIndex: 17695 entries, 0 to 17694\n",
      "Data columns (total 3 columns):\n",
      "ID                 17695 non-null int64\n",
      "MentionedID        17695 non-null int64\n",
      "MentionedHandle    17695 non-null object\n",
      "dtypes: int64(2), object(1)\n",
      "memory usage: 414.8+ KB\n"
     ]
    }
   ],
   "source": [
    "mentions.info()"
   ]
  },
  {
   "cell_type": "code",
   "execution_count": 25,
   "metadata": {
    "collapsed": false
   },
   "outputs": [
    {
     "data": {
      "text/html": [
       "<div>\n",
       "<style>\n",
       "    .dataframe thead tr:only-child th {\n",
       "        text-align: right;\n",
       "    }\n",
       "\n",
       "    .dataframe thead th {\n",
       "        text-align: left;\n",
       "    }\n",
       "\n",
       "    .dataframe tbody tr th {\n",
       "        vertical-align: top;\n",
       "    }\n",
       "</style>\n",
       "<table border=\"1\" class=\"dataframe\">\n",
       "  <thead>\n",
       "    <tr style=\"text-align: right;\">\n",
       "      <th></th>\n",
       "      <th>ID</th>\n",
       "      <th>MentionedID</th>\n",
       "      <th>MentionedHandle</th>\n",
       "    </tr>\n",
       "  </thead>\n",
       "  <tbody>\n",
       "    <tr>\n",
       "      <th>0</th>\n",
       "      <td>612815277</td>\n",
       "      <td>798747864</td>\n",
       "      <td>AlenaBacalia</td>\n",
       "    </tr>\n",
       "    <tr>\n",
       "      <th>1</th>\n",
       "      <td>612815277</td>\n",
       "      <td>354590068</td>\n",
       "      <td>hfholden34</td>\n",
       "    </tr>\n",
       "    <tr>\n",
       "      <th>2</th>\n",
       "      <td>612815277</td>\n",
       "      <td>401111769</td>\n",
       "      <td>MarilynYousif</td>\n",
       "    </tr>\n",
       "    <tr>\n",
       "      <th>3</th>\n",
       "      <td>612815277</td>\n",
       "      <td>35581752</td>\n",
       "      <td>heeeeyerin</td>\n",
       "    </tr>\n",
       "    <tr>\n",
       "      <th>4</th>\n",
       "      <td>612815277</td>\n",
       "      <td>1591956090</td>\n",
       "      <td>DogeTheDog</td>\n",
       "    </tr>\n",
       "  </tbody>\n",
       "</table>\n",
       "</div>"
      ],
      "text/plain": [
       "          ID  MentionedID MentionedHandle\n",
       "0  612815277    798747864    AlenaBacalia\n",
       "1  612815277    354590068      hfholden34\n",
       "2  612815277    401111769   MarilynYousif\n",
       "3  612815277     35581752      heeeeyerin\n",
       "4  612815277   1591956090      DogeTheDog"
      ]
     },
     "execution_count": 25,
     "metadata": {},
     "output_type": "execute_result"
    }
   ],
   "source": [
    "mentions.head()"
   ]
  },
  {
   "cell_type": "code",
   "execution_count": 26,
   "metadata": {
    "collapsed": true
   },
   "outputs": [],
   "source": [
    "# Twitter handles that have been mentioned by more than 1 user (By handle):\n",
    "handles = mentions.groupby('MentionedHandle')['ID'].nunique() > 1\n",
    "h1 = handles.reset_index()\n",
    "h2 = h1[h1['ID']==True]"
   ]
  },
  {
   "cell_type": "code",
   "execution_count": 27,
   "metadata": {
    "collapsed": false
   },
   "outputs": [
    {
     "data": {
      "text/plain": [
       "10746"
      ]
     },
     "execution_count": 27,
     "metadata": {},
     "output_type": "execute_result"
    }
   ],
   "source": [
    "mentions['MentionedHandle'].nunique()"
   ]
  },
  {
   "cell_type": "code",
   "execution_count": 28,
   "metadata": {
    "collapsed": true
   },
   "outputs": [],
   "source": [
    "agg_by_handle = h2['MentionedHandle']\n",
    "agg_by_handle.to_csv('mentioned_more_than_one.csv', index=False)"
   ]
  },
  {
   "cell_type": "markdown",
   "metadata": {},
   "source": [
    "## Question: \n",
    "Build a list of the top 20 handles(rank by greatest number of unique users mentioning a given handle)."
   ]
  },
  {
   "cell_type": "code",
   "execution_count": 29,
   "metadata": {
    "collapsed": false
   },
   "outputs": [
    {
     "data": {
      "text/plain": [
       "MentionedHandle\n",
       "girlposts          32\n",
       "Sexualgif          30\n",
       "SportsCenter       24\n",
       "YouTube            22\n",
       "BabyAnimalPics     20\n",
       "SoDamnTrue         19\n",
       "RelatableQuote     18\n",
       "UberFacts          17\n",
       "CuteEmergency      17\n",
       "WORIDSTARHlPHOP    17\n",
       "WorldStarFunny     16\n",
       "FunnyPicsDepot     16\n",
       "HornyFacts         15\n",
       "FIirtationship     15\n",
       "AboutVirgos        14\n",
       "TweetLikeAGirI     14\n",
       "wizkhalifa         14\n",
       "FreddyAmazin       14\n",
       "EmWatson           13\n",
       "Drrake             12\n",
       "Name: ID, dtype: int64"
      ]
     },
     "execution_count": 29,
     "metadata": {},
     "output_type": "execute_result"
    }
   ],
   "source": [
    "mentions.groupby('MentionedHandle')['ID'].nunique().sort_values(ascending=False).nlargest(n=20)"
   ]
  },
  {
   "cell_type": "code",
   "execution_count": 30,
   "metadata": {
    "collapsed": false
   },
   "outputs": [
    {
     "data": {
      "text/plain": [
       "['girlposts',\n",
       " 'Sexualgif',\n",
       " 'SportsCenter',\n",
       " 'YouTube',\n",
       " 'BabyAnimalPics',\n",
       " 'SoDamnTrue',\n",
       " 'RelatableQuote',\n",
       " 'UberFacts',\n",
       " 'CuteEmergency',\n",
       " 'WORIDSTARHlPHOP',\n",
       " 'WorldStarFunny',\n",
       " 'FunnyPicsDepot',\n",
       " 'HornyFacts',\n",
       " 'FIirtationship',\n",
       " 'AboutVirgos',\n",
       " 'TweetLikeAGirI',\n",
       " 'wizkhalifa',\n",
       " 'FreddyAmazin',\n",
       " 'EmWatson',\n",
       " 'Drrake']"
      ]
     },
     "execution_count": 30,
     "metadata": {},
     "output_type": "execute_result"
    }
   ],
   "source": [
    "list(mentions.groupby('MentionedHandle')['ID'].nunique()\n",
    "     .sort_values(ascending=False)\n",
    "     .nlargest(n=20)\n",
    "     .reset_index()['MentionedHandle'])"
   ]
  },
  {
   "cell_type": "markdown",
   "metadata": {},
   "source": [
    "## Question:\n",
    "Which   actor/actress   in   this   top   20   list   starred   in   the   Harry   Potter   movies, and   how   many   unique   users   mentioned   this   star’s   Twitter   handle?\n",
    "\n",
    "**Answer:** Emma Watson. 13 unique users have mentioned her in tweets in our data."
   ]
  },
  {
   "cell_type": "code",
   "execution_count": 31,
   "metadata": {
    "collapsed": false
   },
   "outputs": [
    {
     "data": {
      "text/html": [
       "<div>\n",
       "<style>\n",
       "    .dataframe thead tr:only-child th {\n",
       "        text-align: right;\n",
       "    }\n",
       "\n",
       "    .dataframe thead th {\n",
       "        text-align: left;\n",
       "    }\n",
       "\n",
       "    .dataframe tbody tr th {\n",
       "        vertical-align: top;\n",
       "    }\n",
       "</style>\n",
       "<table border=\"1\" class=\"dataframe\">\n",
       "  <thead>\n",
       "    <tr style=\"text-align: right;\">\n",
       "      <th></th>\n",
       "      <th>ID</th>\n",
       "      <th>MentionedID</th>\n",
       "      <th>MentionedHandle</th>\n",
       "    </tr>\n",
       "  </thead>\n",
       "  <tbody>\n",
       "    <tr>\n",
       "      <th>159</th>\n",
       "      <td>154628162</td>\n",
       "      <td>2786430025</td>\n",
       "      <td>opnspirits</td>\n",
       "    </tr>\n",
       "    <tr>\n",
       "      <th>2800</th>\n",
       "      <td>1385365447</td>\n",
       "      <td>2786430025</td>\n",
       "      <td>sexpIoit</td>\n",
       "    </tr>\n",
       "    <tr>\n",
       "      <th>6348</th>\n",
       "      <td>173993294</td>\n",
       "      <td>2786430025</td>\n",
       "      <td>sexpIoit</td>\n",
       "    </tr>\n",
       "    <tr>\n",
       "      <th>13365</th>\n",
       "      <td>2500814748</td>\n",
       "      <td>2786430025</td>\n",
       "      <td>opnspirits</td>\n",
       "    </tr>\n",
       "  </tbody>\n",
       "</table>\n",
       "</div>"
      ],
      "text/plain": [
       "               ID  MentionedID MentionedHandle\n",
       "159     154628162   2786430025      opnspirits\n",
       "2800   1385365447   2786430025        sexpIoit\n",
       "6348    173993294   2786430025        sexpIoit\n",
       "13365  2500814748   2786430025      opnspirits"
      ]
     },
     "execution_count": 31,
     "metadata": {},
     "output_type": "execute_result"
    }
   ],
   "source": [
    "# One handle match with one ID, but one ID can match more than 1 handle\n",
    "# people can change their handles, example: \n",
    "mentions[mentions['MentionedID'] == 2786430025]"
   ]
  },
  {
   "cell_type": "code",
   "execution_count": 32,
   "metadata": {
    "collapsed": false
   },
   "outputs": [
    {
     "data": {
      "text/html": [
       "<div>\n",
       "<style>\n",
       "    .dataframe thead tr:only-child th {\n",
       "        text-align: right;\n",
       "    }\n",
       "\n",
       "    .dataframe thead th {\n",
       "        text-align: left;\n",
       "    }\n",
       "\n",
       "    .dataframe tbody tr th {\n",
       "        vertical-align: top;\n",
       "    }\n",
       "</style>\n",
       "<table border=\"1\" class=\"dataframe\">\n",
       "  <thead>\n",
       "    <tr style=\"text-align: right;\">\n",
       "      <th></th>\n",
       "      <th>ID</th>\n",
       "      <th>MentionedID</th>\n",
       "      <th>MentionedHandle</th>\n",
       "    </tr>\n",
       "  </thead>\n",
       "  <tbody>\n",
       "    <tr>\n",
       "      <th>16493</th>\n",
       "      <td>388611511</td>\n",
       "      <td>2577445704</td>\n",
       "      <td>KinkyGifs</td>\n",
       "    </tr>\n",
       "  </tbody>\n",
       "</table>\n",
       "</div>"
      ],
      "text/plain": [
       "              ID  MentionedID MentionedHandle\n",
       "16493  388611511   2577445704       KinkyGifs"
      ]
     },
     "execution_count": 32,
     "metadata": {},
     "output_type": "execute_result"
    }
   ],
   "source": [
    "mentions[mentions['MentionedHandle'] == 'KinkyGifs']"
   ]
  },
  {
   "cell_type": "code",
   "execution_count": 33,
   "metadata": {
    "collapsed": false
   },
   "outputs": [
    {
     "data": {
      "text/html": [
       "<div>\n",
       "<style>\n",
       "    .dataframe thead tr:only-child th {\n",
       "        text-align: right;\n",
       "    }\n",
       "\n",
       "    .dataframe thead th {\n",
       "        text-align: left;\n",
       "    }\n",
       "\n",
       "    .dataframe tbody tr th {\n",
       "        vertical-align: top;\n",
       "    }\n",
       "</style>\n",
       "<table border=\"1\" class=\"dataframe\">\n",
       "  <thead>\n",
       "    <tr style=\"text-align: right;\">\n",
       "      <th></th>\n",
       "      <th>ID</th>\n",
       "      <th>MentionedID</th>\n",
       "      <th>MentionedHandle</th>\n",
       "    </tr>\n",
       "  </thead>\n",
       "  <tbody>\n",
       "    <tr>\n",
       "      <th>934</th>\n",
       "      <td>448515595</td>\n",
       "      <td>2577445704</td>\n",
       "      <td>CraziestFreaks</td>\n",
       "    </tr>\n",
       "    <tr>\n",
       "      <th>935</th>\n",
       "      <td>448515595</td>\n",
       "      <td>2577445704</td>\n",
       "      <td>CraziestFreaks</td>\n",
       "    </tr>\n",
       "    <tr>\n",
       "      <th>1101</th>\n",
       "      <td>206444763</td>\n",
       "      <td>2577445704</td>\n",
       "      <td>CraziestFreaks</td>\n",
       "    </tr>\n",
       "    <tr>\n",
       "      <th>3241</th>\n",
       "      <td>403790784</td>\n",
       "      <td>2577445704</td>\n",
       "      <td>CraziestFreaks</td>\n",
       "    </tr>\n",
       "    <tr>\n",
       "      <th>4776</th>\n",
       "      <td>501025984</td>\n",
       "      <td>2577445704</td>\n",
       "      <td>CraziestFreaks</td>\n",
       "    </tr>\n",
       "    <tr>\n",
       "      <th>6846</th>\n",
       "      <td>2762236363</td>\n",
       "      <td>2577445704</td>\n",
       "      <td>CraziestFreaks</td>\n",
       "    </tr>\n",
       "    <tr>\n",
       "      <th>9119</th>\n",
       "      <td>386861037</td>\n",
       "      <td>2577445704</td>\n",
       "      <td>CraziestFreaks</td>\n",
       "    </tr>\n",
       "    <tr>\n",
       "      <th>9120</th>\n",
       "      <td>386861037</td>\n",
       "      <td>2577445704</td>\n",
       "      <td>CraziestFreaks</td>\n",
       "    </tr>\n",
       "    <tr>\n",
       "      <th>9121</th>\n",
       "      <td>386861037</td>\n",
       "      <td>2577445704</td>\n",
       "      <td>CraziestFreaks</td>\n",
       "    </tr>\n",
       "    <tr>\n",
       "      <th>9122</th>\n",
       "      <td>386861037</td>\n",
       "      <td>2577445704</td>\n",
       "      <td>CraziestFreaks</td>\n",
       "    </tr>\n",
       "    <tr>\n",
       "      <th>9265</th>\n",
       "      <td>173723177</td>\n",
       "      <td>2577445704</td>\n",
       "      <td>CraziestFreaks</td>\n",
       "    </tr>\n",
       "    <tr>\n",
       "      <th>11022</th>\n",
       "      <td>191671355</td>\n",
       "      <td>2577445704</td>\n",
       "      <td>CraziestFreaks</td>\n",
       "    </tr>\n",
       "    <tr>\n",
       "      <th>12449</th>\n",
       "      <td>208363588</td>\n",
       "      <td>2577445704</td>\n",
       "      <td>CraziestFreaks</td>\n",
       "    </tr>\n",
       "    <tr>\n",
       "      <th>12767</th>\n",
       "      <td>968934300</td>\n",
       "      <td>2577445704</td>\n",
       "      <td>CraziestFreaks</td>\n",
       "    </tr>\n",
       "    <tr>\n",
       "      <th>13165</th>\n",
       "      <td>414296620</td>\n",
       "      <td>2577445704</td>\n",
       "      <td>CraziestFreaks</td>\n",
       "    </tr>\n",
       "    <tr>\n",
       "      <th>13166</th>\n",
       "      <td>414296620</td>\n",
       "      <td>2577445704</td>\n",
       "      <td>CraziestFreaks</td>\n",
       "    </tr>\n",
       "    <tr>\n",
       "      <th>16493</th>\n",
       "      <td>388611511</td>\n",
       "      <td>2577445704</td>\n",
       "      <td>KinkyGifs</td>\n",
       "    </tr>\n",
       "  </tbody>\n",
       "</table>\n",
       "</div>"
      ],
      "text/plain": [
       "               ID  MentionedID MentionedHandle\n",
       "934     448515595   2577445704  CraziestFreaks\n",
       "935     448515595   2577445704  CraziestFreaks\n",
       "1101    206444763   2577445704  CraziestFreaks\n",
       "3241    403790784   2577445704  CraziestFreaks\n",
       "4776    501025984   2577445704  CraziestFreaks\n",
       "6846   2762236363   2577445704  CraziestFreaks\n",
       "9119    386861037   2577445704  CraziestFreaks\n",
       "9120    386861037   2577445704  CraziestFreaks\n",
       "9121    386861037   2577445704  CraziestFreaks\n",
       "9122    386861037   2577445704  CraziestFreaks\n",
       "9265    173723177   2577445704  CraziestFreaks\n",
       "11022   191671355   2577445704  CraziestFreaks\n",
       "12449   208363588   2577445704  CraziestFreaks\n",
       "12767   968934300   2577445704  CraziestFreaks\n",
       "13165   414296620   2577445704  CraziestFreaks\n",
       "13166   414296620   2577445704  CraziestFreaks\n",
       "16493   388611511   2577445704       KinkyGifs"
      ]
     },
     "execution_count": 33,
     "metadata": {},
     "output_type": "execute_result"
    }
   ],
   "source": [
    "# why KinkyGifs has only one record but was included in my 'r2'?\n",
    "mentions[mentions['MentionedID'] == 2577445704]"
   ]
  },
  {
   "cell_type": "markdown",
   "metadata": {},
   "source": [
    "## Break   down   the   sample   by   age-decade   (age   10-20,   20-30,   etc)."
   ]
  },
  {
   "cell_type": "code",
   "execution_count": 34,
   "metadata": {
    "collapsed": true
   },
   "outputs": [],
   "source": [
    "# Use ages_train.csv to obtain age info\n",
    "ages_train = pd.read_csv('assignment_package/ages_train.csv')"
   ]
  },
  {
   "cell_type": "code",
   "execution_count": 35,
   "metadata": {
    "collapsed": false
   },
   "outputs": [
    {
     "data": {
      "text/html": [
       "<div>\n",
       "<style>\n",
       "    .dataframe thead tr:only-child th {\n",
       "        text-align: right;\n",
       "    }\n",
       "\n",
       "    .dataframe thead th {\n",
       "        text-align: left;\n",
       "    }\n",
       "\n",
       "    .dataframe tbody tr th {\n",
       "        vertical-align: top;\n",
       "    }\n",
       "</style>\n",
       "<table border=\"1\" class=\"dataframe\">\n",
       "  <thead>\n",
       "    <tr style=\"text-align: right;\">\n",
       "      <th></th>\n",
       "      <th>ID</th>\n",
       "      <th>Age</th>\n",
       "    </tr>\n",
       "  </thead>\n",
       "  <tbody>\n",
       "    <tr>\n",
       "      <th>0</th>\n",
       "      <td>23605717</td>\n",
       "      <td>21</td>\n",
       "    </tr>\n",
       "    <tr>\n",
       "      <th>1</th>\n",
       "      <td>781084760</td>\n",
       "      <td>19</td>\n",
       "    </tr>\n",
       "    <tr>\n",
       "      <th>2</th>\n",
       "      <td>102262916</td>\n",
       "      <td>21</td>\n",
       "    </tr>\n",
       "    <tr>\n",
       "      <th>3</th>\n",
       "      <td>413710015</td>\n",
       "      <td>21</td>\n",
       "    </tr>\n",
       "    <tr>\n",
       "      <th>4</th>\n",
       "      <td>584304916</td>\n",
       "      <td>90</td>\n",
       "    </tr>\n",
       "  </tbody>\n",
       "</table>\n",
       "</div>"
      ],
      "text/plain": [
       "          ID  Age\n",
       "0   23605717   21\n",
       "1  781084760   19\n",
       "2  102262916   21\n",
       "3  413710015   21\n",
       "4  584304916   90"
      ]
     },
     "execution_count": 35,
     "metadata": {},
     "output_type": "execute_result"
    }
   ],
   "source": [
    "ages_train.head()"
   ]
  },
  {
   "cell_type": "code",
   "execution_count": 36,
   "metadata": {
    "collapsed": false
   },
   "outputs": [
    {
     "data": {
      "text/html": [
       "<div>\n",
       "<style>\n",
       "    .dataframe thead tr:only-child th {\n",
       "        text-align: right;\n",
       "    }\n",
       "\n",
       "    .dataframe thead th {\n",
       "        text-align: left;\n",
       "    }\n",
       "\n",
       "    .dataframe tbody tr th {\n",
       "        vertical-align: top;\n",
       "    }\n",
       "</style>\n",
       "<table border=\"1\" class=\"dataframe\">\n",
       "  <thead>\n",
       "    <tr style=\"text-align: right;\">\n",
       "      <th></th>\n",
       "      <th>ID</th>\n",
       "      <th>Age</th>\n",
       "    </tr>\n",
       "  </thead>\n",
       "  <tbody>\n",
       "    <tr>\n",
       "      <th>count</th>\n",
       "      <td>1.711000e+03</td>\n",
       "      <td>1711.000000</td>\n",
       "    </tr>\n",
       "    <tr>\n",
       "      <th>mean</th>\n",
       "      <td>6.933661e+08</td>\n",
       "      <td>22.210403</td>\n",
       "    </tr>\n",
       "    <tr>\n",
       "      <th>std</th>\n",
       "      <td>8.066845e+08</td>\n",
       "      <td>7.220109</td>\n",
       "    </tr>\n",
       "    <tr>\n",
       "      <th>min</th>\n",
       "      <td>2.025381e+06</td>\n",
       "      <td>18.000000</td>\n",
       "    </tr>\n",
       "    <tr>\n",
       "      <th>25%</th>\n",
       "      <td>1.467558e+08</td>\n",
       "      <td>19.000000</td>\n",
       "    </tr>\n",
       "    <tr>\n",
       "      <th>50%</th>\n",
       "      <td>3.406691e+08</td>\n",
       "      <td>21.000000</td>\n",
       "    </tr>\n",
       "    <tr>\n",
       "      <th>75%</th>\n",
       "      <td>8.865310e+08</td>\n",
       "      <td>22.000000</td>\n",
       "    </tr>\n",
       "    <tr>\n",
       "      <th>max</th>\n",
       "      <td>2.832494e+09</td>\n",
       "      <td>111.000000</td>\n",
       "    </tr>\n",
       "  </tbody>\n",
       "</table>\n",
       "</div>"
      ],
      "text/plain": [
       "                 ID          Age\n",
       "count  1.711000e+03  1711.000000\n",
       "mean   6.933661e+08    22.210403\n",
       "std    8.066845e+08     7.220109\n",
       "min    2.025381e+06    18.000000\n",
       "25%    1.467558e+08    19.000000\n",
       "50%    3.406691e+08    21.000000\n",
       "75%    8.865310e+08    22.000000\n",
       "max    2.832494e+09   111.000000"
      ]
     },
     "execution_count": 36,
     "metadata": {},
     "output_type": "execute_result"
    }
   ],
   "source": [
    "ages_train.describe()"
   ]
  },
  {
   "cell_type": "code",
   "execution_count": 37,
   "metadata": {
    "collapsed": false
   },
   "outputs": [
    {
     "data": {
      "text/plain": [
       "<matplotlib.axes._subplots.AxesSubplot at 0x124850438>"
      ]
     },
     "execution_count": 37,
     "metadata": {},
     "output_type": "execute_result"
    },
    {
     "data": {
      "image/png": "[encoded data removed]",
      "text/plain": [
       "<matplotlib.figure.Figure at 0x12477a5f8>"
      ]
     },
     "metadata": {},
     "output_type": "display_data"
    }
   ],
   "source": [
    "# max = 111 ?? check.\n",
    "ages_train.Age.hist()"
   ]
  },
  {
   "cell_type": "code",
   "execution_count": 38,
   "metadata": {
    "collapsed": false
   },
   "outputs": [
    {
     "data": {
      "text/html": [
       "<div>\n",
       "<style>\n",
       "    .dataframe thead tr:only-child th {\n",
       "        text-align: right;\n",
       "    }\n",
       "\n",
       "    .dataframe thead th {\n",
       "        text-align: left;\n",
       "    }\n",
       "\n",
       "    .dataframe tbody tr th {\n",
       "        vertical-align: top;\n",
       "    }\n",
       "</style>\n",
       "<table border=\"1\" class=\"dataframe\">\n",
       "  <thead>\n",
       "    <tr style=\"text-align: right;\">\n",
       "      <th></th>\n",
       "      <th>ID</th>\n",
       "      <th>Age</th>\n",
       "    </tr>\n",
       "  </thead>\n",
       "  <tbody>\n",
       "    <tr>\n",
       "      <th>4</th>\n",
       "      <td>584304916</td>\n",
       "      <td>90</td>\n",
       "    </tr>\n",
       "    <tr>\n",
       "      <th>452</th>\n",
       "      <td>394917207</td>\n",
       "      <td>94</td>\n",
       "    </tr>\n",
       "    <tr>\n",
       "      <th>988</th>\n",
       "      <td>75618870</td>\n",
       "      <td>87</td>\n",
       "    </tr>\n",
       "    <tr>\n",
       "      <th>1174</th>\n",
       "      <td>129959464</td>\n",
       "      <td>106</td>\n",
       "    </tr>\n",
       "    <tr>\n",
       "      <th>1316</th>\n",
       "      <td>2832494239</td>\n",
       "      <td>111</td>\n",
       "    </tr>\n",
       "  </tbody>\n",
       "</table>\n",
       "</div>"
      ],
      "text/plain": [
       "              ID  Age\n",
       "4      584304916   90\n",
       "452    394917207   94\n",
       "988     75618870   87\n",
       "1174   129959464  106\n",
       "1316  2832494239  111"
      ]
     },
     "execution_count": 38,
     "metadata": {},
     "output_type": "execute_result"
    }
   ],
   "source": [
    "# some outliers...\n",
    "ages_train[ages_train.Age > 80]"
   ]
  },
  {
   "cell_type": "code",
   "execution_count": 39,
   "metadata": {
    "collapsed": true
   },
   "outputs": [],
   "source": [
    "# remove outliers\n",
    "ages_new = ages_train[ages_train['Age']<80]"
   ]
  },
  {
   "cell_type": "code",
   "execution_count": 40,
   "metadata": {
    "collapsed": false
   },
   "outputs": [
    {
     "name": "stderr",
     "output_type": "stream",
     "text": [
      "//anaconda/envs/capstone/lib/python3.6/site-packages/ipykernel/__main__.py:4: SettingWithCopyWarning: \n",
      "A value is trying to be set on a copy of a slice from a DataFrame.\n",
      "Try using .loc[row_indexer,col_indexer] = value instead\n",
      "\n",
      "See the caveats in the documentation: http://pandas.pydata.org/pandas-docs/stable/indexing.html#indexing-view-versus-copy\n"
     ]
    }
   ],
   "source": [
    "# create a new column as age_decade:\n",
    "bins = [17,25,35,45,55,120]\n",
    "group_names = ['18-25','26-35','36-45','46-55','>55']\n",
    "ages_new['age_decade'] = pd.cut(ages_new['Age'], bins, labels=group_names)"
   ]
  },
  {
   "cell_type": "code",
   "execution_count": 41,
   "metadata": {
    "collapsed": false
   },
   "outputs": [
    {
     "data": {
      "text/plain": [
       "<matplotlib.text.Text at 0x1240ee5c0>"
      ]
     },
     "execution_count": 41,
     "metadata": {},
     "output_type": "execute_result"
    },
    {
     "data": {
      "image/png": "[encoded data removed]",
      "text/plain": [
       "<matplotlib.figure.Figure at 0x123b52be0>"
      ]
     },
     "metadata": {},
     "output_type": "display_data"
    }
   ],
   "source": [
    "ages_new.groupby('age_decade')['ID'].count().plot(kind='bar', alpha=.7)\n",
    "plt.title('Age group distribution in training data')"
   ]
  },
  {
   "cell_type": "code",
   "execution_count": 42,
   "metadata": {
    "collapsed": false
   },
   "outputs": [
    {
     "data": {
      "text/plain": [
       "age_decade\n",
       "18-25    1508\n",
       "26-35     138\n",
       "36-45      37\n",
       "46-55      13\n",
       ">55         9\n",
       "Name: ID, dtype: int64"
      ]
     },
     "execution_count": 42,
     "metadata": {},
     "output_type": "execute_result"
    }
   ],
   "source": [
    "# absolute number\n",
    "ages_new.groupby('age_decade')['ID'].count()"
   ]
  },
  {
   "cell_type": "code",
   "execution_count": 43,
   "metadata": {
    "collapsed": false
   },
   "outputs": [
    {
     "data": {
      "text/plain": [
       "age_decade\n",
       "18-25    0.884457\n",
       "26-35    0.080938\n",
       "36-45    0.021701\n",
       "46-55    0.007625\n",
       ">55      0.005279\n",
       "Name: ID, dtype: float64"
      ]
     },
     "execution_count": 43,
     "metadata": {},
     "output_type": "execute_result"
    }
   ],
   "source": [
    "# relative proportion\n",
    "ages_new.groupby('age_decade')['ID'].count()/len(ages_new)"
   ]
  },
  {
   "cell_type": "markdown",
   "metadata": {},
   "source": [
    "## Try emoji extraction in python 3 (to better handle unicode):"
   ]
  },
  {
   "cell_type": "code",
   "execution_count": 44,
   "metadata": {
    "collapsed": true
   },
   "outputs": [],
   "source": [
    "def extract_emojis(s):\n",
    "    return ''.join(c for c in str(s) if c in emoji.UNICODE_EMOJI)"
   ]
  },
  {
   "cell_type": "code",
   "execution_count": 45,
   "metadata": {
    "collapsed": true
   },
   "outputs": [],
   "source": [
    "# Load data\n",
    "age_profiles = pd.read_json('assignment_package/age_profiles.json')\n",
    "ages_train = pd.read_csv('assignment_package/ages_train.csv')"
   ]
  },
  {
   "cell_type": "code",
   "execution_count": 46,
   "metadata": {
    "collapsed": false
   },
   "outputs": [
    {
     "name": "stderr",
     "output_type": "stream",
     "text": [
      "//anaconda/envs/capstone/lib/python3.6/site-packages/pandas/core/indexes/api.py:43: RuntimeWarning: '>' not supported between instances of 'int' and 'str', sort order is undefined for incomparable objects\n",
      "  union = _union_indexes(indexes)\n",
      "//anaconda/envs/capstone/lib/python3.6/site-packages/pandas/core/indexes/api.py:77: RuntimeWarning: '>' not supported between instances of 'int' and 'str', sort order is undefined for incomparable objects\n",
      "  result = result.union(other)\n"
     ]
    }
   ],
   "source": [
    "# Create a new age_profiles dataframe that extracts info from \"status\" column:\n",
    "age_profiles_new = pd.concat([age_profiles, \n",
    "                              pd.DataFrame(age_profiles['status'].apply(pd.Series) \\\n",
    "                                           .rename(columns = lambda x: 'status_' + str(x)))], axis=1)"
   ]
  },
  {
   "cell_type": "code",
   "execution_count": 47,
   "metadata": {
    "collapsed": false
   },
   "outputs": [],
   "source": [
    "# Take a look at the new dataframe\n",
    "# age_profiles_new.head()"
   ]
  },
  {
   "cell_type": "code",
   "execution_count": 48,
   "metadata": {
    "collapsed": false
   },
   "outputs": [],
   "source": [
    "# Create a new column 'status_emoji' that only has emojis:\n",
    "age_profiles_new['status_emoji'] = age_profiles_new['status_text'].map(lambda x: extract_emojis(x))"
   ]
  },
  {
   "cell_type": "code",
   "execution_count": 49,
   "metadata": {
    "collapsed": false
   },
   "outputs": [],
   "source": [
    "# Create a new column as emoji count in each profile status text:\n",
    "age_profiles_new['emoji_cnt'] = age_profiles_new['status_emoji'].map(lambda x: len(x))"
   ]
  },
  {
   "cell_type": "markdown",
   "metadata": {},
   "source": [
    "# Join ages_train with age_profiles to get user age:\n"
   ]
  },
  {
   "cell_type": "code",
   "execution_count": 50,
   "metadata": {
    "collapsed": false
   },
   "outputs": [],
   "source": [
    "age_profiles_new.set_index('id', inplace=True)"
   ]
  },
  {
   "cell_type": "code",
   "execution_count": 51,
   "metadata": {
    "collapsed": false
   },
   "outputs": [],
   "source": [
    "ages_new.set_index('ID', inplace=True)"
   ]
  },
  {
   "cell_type": "code",
   "execution_count": 52,
   "metadata": {
    "collapsed": true
   },
   "outputs": [],
   "source": [
    "age_joined = age_profiles_new.join(ages_new, how='inner')"
   ]
  },
  {
   "cell_type": "code",
   "execution_count": 53,
   "metadata": {
    "collapsed": false
   },
   "outputs": [
    {
     "data": {
      "text/html": [
       "<div>\n",
       "<style>\n",
       "    .dataframe thead tr:only-child th {\n",
       "        text-align: right;\n",
       "    }\n",
       "\n",
       "    .dataframe thead th {\n",
       "        text-align: left;\n",
       "    }\n",
       "\n",
       "    .dataframe tbody tr th {\n",
       "        vertical-align: top;\n",
       "    }\n",
       "</style>\n",
       "<table border=\"1\" class=\"dataframe\">\n",
       "  <thead>\n",
       "    <tr style=\"text-align: right;\">\n",
       "      <th></th>\n",
       "      <th>contributors_enabled</th>\n",
       "      <th>created_at</th>\n",
       "      <th>default_profile</th>\n",
       "      <th>default_profile_image</th>\n",
       "      <th>description</th>\n",
       "      <th>entities</th>\n",
       "      <th>favourites_count</th>\n",
       "      <th>follow_request_sent</th>\n",
       "      <th>followers_count</th>\n",
       "      <th>following</th>\n",
       "      <th>friends_count</th>\n",
       "      <th>geo_enabled</th>\n",
       "      <th>id_str</th>\n",
       "      <th>is_translation_enabled</th>\n",
       "      <th>is_translator</th>\n",
       "      <th>lang</th>\n",
       "      <th>listed_count</th>\n",
       "      <th>location</th>\n",
       "      <th>name</th>\n",
       "      <th>notifications</th>\n",
       "      <th>profile_background_color</th>\n",
       "      <th>profile_background_image_url</th>\n",
       "      <th>profile_background_image_url_https</th>\n",
       "      <th>profile_background_tile</th>\n",
       "      <th>profile_banner_url</th>\n",
       "      <th>profile_image_url</th>\n",
       "      <th>profile_image_url_https</th>\n",
       "      <th>profile_link_color</th>\n",
       "      <th>profile_sidebar_border_color</th>\n",
       "      <th>profile_sidebar_fill_color</th>\n",
       "      <th>profile_text_color</th>\n",
       "      <th>profile_use_background_image</th>\n",
       "      <th>protected</th>\n",
       "      <th>screen_name</th>\n",
       "      <th>status</th>\n",
       "      <th>statuses_count</th>\n",
       "      <th>time_zone</th>\n",
       "      <th>url</th>\n",
       "      <th>utc_offset</th>\n",
       "      <th>verified</th>\n",
       "      <th>status_contributors</th>\n",
       "      <th>status_coordinates</th>\n",
       "      <th>status_created_at</th>\n",
       "      <th>status_entities</th>\n",
       "      <th>status_favorite_count</th>\n",
       "      <th>status_favorited</th>\n",
       "      <th>status_geo</th>\n",
       "      <th>status_id</th>\n",
       "      <th>status_id_str</th>\n",
       "      <th>status_in_reply_to_screen_name</th>\n",
       "      <th>status_in_reply_to_status_id</th>\n",
       "      <th>status_in_reply_to_status_id_str</th>\n",
       "      <th>status_in_reply_to_user_id</th>\n",
       "      <th>status_in_reply_to_user_id_str</th>\n",
       "      <th>status_lang</th>\n",
       "      <th>status_place</th>\n",
       "      <th>status_possibly_sensitive</th>\n",
       "      <th>status_retweet_count</th>\n",
       "      <th>status_retweeted</th>\n",
       "      <th>status_retweeted_status</th>\n",
       "      <th>status_source</th>\n",
       "      <th>status_text</th>\n",
       "      <th>status_truncated</th>\n",
       "      <th>status_0</th>\n",
       "      <th>status_emoji</th>\n",
       "      <th>emoji_cnt</th>\n",
       "      <th>Age</th>\n",
       "      <th>age_decade</th>\n",
       "    </tr>\n",
       "  </thead>\n",
       "  <tbody>\n",
       "    <tr>\n",
       "      <th>612815277</th>\n",
       "      <td>False</td>\n",
       "      <td>2012-06-19 17:54:58</td>\n",
       "      <td>False</td>\n",
       "      <td>False</td>\n",
       "      <td>You'll never find another one like me.</td>\n",
       "      <td>{'description': {'urls': []}}</td>\n",
       "      <td>7931</td>\n",
       "      <td>False</td>\n",
       "      <td>274</td>\n",
       "      <td>False</td>\n",
       "      <td>264</td>\n",
       "      <td>True</td>\n",
       "      <td>612815277</td>\n",
       "      <td>False</td>\n",
       "      <td>False</td>\n",
       "      <td>en</td>\n",
       "      <td>1</td>\n",
       "      <td></td>\n",
       "      <td>Greggy</td>\n",
       "      <td>False</td>\n",
       "      <td>131516</td>\n",
       "      <td>http://abs.twimg.com/images/themes/theme14/bg.gif</td>\n",
       "      <td>https://abs.twimg.com/images/themes/theme14/bg...</td>\n",
       "      <td>True</td>\n",
       "      <td>https://pbs.twimg.com/profile_banners/61281527...</td>\n",
       "      <td>http://pbs.twimg.com/profile_images/4776662828...</td>\n",
       "      <td>https://pbs.twimg.com/profile_images/477666282...</td>\n",
       "      <td>009999</td>\n",
       "      <td>EEEEEE</td>\n",
       "      <td>EFEFEF</td>\n",
       "      <td>333333</td>\n",
       "      <td>True</td>\n",
       "      <td>False</td>\n",
       "      <td>agregtoremember</td>\n",
       "      <td>{'retweeted_status': {'retweet_count': 452, 'c...</td>\n",
       "      <td>12230</td>\n",
       "      <td>Atlantic Time (Canada)</td>\n",
       "      <td>None</td>\n",
       "      <td>-10800.0</td>\n",
       "      <td>False</td>\n",
       "      <td>NaN</td>\n",
       "      <td>None</td>\n",
       "      <td>Fri Sep 26 16:49:37 +0000 2014</td>\n",
       "      <td>{'urls': [], 'user_mentions': [{'id': 15919560...</td>\n",
       "      <td>0.0</td>\n",
       "      <td>False</td>\n",
       "      <td>None</td>\n",
       "      <td>5.155437e+17</td>\n",
       "      <td>515543724785684480</td>\n",
       "      <td>None</td>\n",
       "      <td>NaN</td>\n",
       "      <td>None</td>\n",
       "      <td>NaN</td>\n",
       "      <td>None</td>\n",
       "      <td>en</td>\n",
       "      <td>None</td>\n",
       "      <td>NaN</td>\n",
       "      <td>452.0</td>\n",
       "      <td>False</td>\n",
       "      <td>{'retweet_count': 452, 'created_at': 'Fri Sep ...</td>\n",
       "      <td>&lt;a href=\"http://twitter.com/download/android\" ...</td>\n",
       "      <td>RT @DogeTheDog: Wow\\n           So friday\\n   ...</td>\n",
       "      <td>False</td>\n",
       "      <td>NaN</td>\n",
       "      <td></td>\n",
       "      <td>0</td>\n",
       "      <td>21</td>\n",
       "      <td>18-25</td>\n",
       "    </tr>\n",
       "    <tr>\n",
       "      <th>490791079</th>\n",
       "      <td>False</td>\n",
       "      <td>2012-02-12 22:36:17</td>\n",
       "      <td>False</td>\n",
       "      <td>False</td>\n",
       "      <td>If you like me, i probably like you more. {IG:...</td>\n",
       "      <td>{'description': {'urls': []}}</td>\n",
       "      <td>1141</td>\n",
       "      <td>False</td>\n",
       "      <td>481</td>\n",
       "      <td>False</td>\n",
       "      <td>527</td>\n",
       "      <td>True</td>\n",
       "      <td>490791079</td>\n",
       "      <td>False</td>\n",
       "      <td>False</td>\n",
       "      <td>en</td>\n",
       "      <td>1</td>\n",
       "      <td>9⃣3⃣7⃣</td>\n",
       "      <td>Guff✌️</td>\n",
       "      <td>False</td>\n",
       "      <td>1A1B1F</td>\n",
       "      <td>http://abs.twimg.com/images/themes/theme9/bg.gif</td>\n",
       "      <td>https://abs.twimg.com/images/themes/theme9/bg.gif</td>\n",
       "      <td>False</td>\n",
       "      <td>https://pbs.twimg.com/profile_banners/49079107...</td>\n",
       "      <td>http://pbs.twimg.com/profile_images/5097227545...</td>\n",
       "      <td>https://pbs.twimg.com/profile_images/509722754...</td>\n",
       "      <td>2FC2EF</td>\n",
       "      <td>181A1E</td>\n",
       "      <td>252429</td>\n",
       "      <td>666666</td>\n",
       "      <td>True</td>\n",
       "      <td>False</td>\n",
       "      <td>C_Guffieee</td>\n",
       "      <td>{'retweet_count': 0, 'created_at': 'Fri Sep 26...</td>\n",
       "      <td>14680</td>\n",
       "      <td>Hawaii</td>\n",
       "      <td>None</td>\n",
       "      <td>-36000.0</td>\n",
       "      <td>False</td>\n",
       "      <td>NaN</td>\n",
       "      <td>None</td>\n",
       "      <td>Fri Sep 26 17:42:07 +0000 2014</td>\n",
       "      <td>{'urls': [], 'user_mentions': [], 'symbols': [...</td>\n",
       "      <td>0.0</td>\n",
       "      <td>False</td>\n",
       "      <td>None</td>\n",
       "      <td>5.155569e+17</td>\n",
       "      <td>515556938512609280</td>\n",
       "      <td>None</td>\n",
       "      <td>NaN</td>\n",
       "      <td>None</td>\n",
       "      <td>NaN</td>\n",
       "      <td>None</td>\n",
       "      <td>en</td>\n",
       "      <td>None</td>\n",
       "      <td>NaN</td>\n",
       "      <td>0.0</td>\n",
       "      <td>False</td>\n",
       "      <td>NaN</td>\n",
       "      <td>&lt;a href=\"http://twitter.com/download/iphone\" r...</td>\n",
       "      <td>Damn I gotta wait to next week to get the IPho...</td>\n",
       "      <td>False</td>\n",
       "      <td>NaN</td>\n",
       "      <td>😒</td>\n",
       "      <td>1</td>\n",
       "      <td>18</td>\n",
       "      <td>18-25</td>\n",
       "    </tr>\n",
       "    <tr>\n",
       "      <th>264416315</th>\n",
       "      <td>False</td>\n",
       "      <td>2011-03-11 21:44:56</td>\n",
       "      <td>False</td>\n",
       "      <td>False</td>\n",
       "      <td>Success doesn’t come to you…you go to it.</td>\n",
       "      <td>{'description': {'urls': []}}</td>\n",
       "      <td>174</td>\n",
       "      <td>False</td>\n",
       "      <td>878</td>\n",
       "      <td>False</td>\n",
       "      <td>953</td>\n",
       "      <td>False</td>\n",
       "      <td>264416315</td>\n",
       "      <td>False</td>\n",
       "      <td>False</td>\n",
       "      <td>en</td>\n",
       "      <td>2</td>\n",
       "      <td>Wonderland</td>\n",
       "      <td>Starqueria.⚓</td>\n",
       "      <td>False</td>\n",
       "      <td>FCEBB6</td>\n",
       "      <td>http://pbs.twimg.com/profile_background_images...</td>\n",
       "      <td>https://pbs.twimg.com/profile_background_image...</td>\n",
       "      <td>True</td>\n",
       "      <td>https://pbs.twimg.com/profile_banners/26441631...</td>\n",
       "      <td>http://pbs.twimg.com/profile_images/5127311352...</td>\n",
       "      <td>https://pbs.twimg.com/profile_images/512731135...</td>\n",
       "      <td>CE7834</td>\n",
       "      <td>F0A830</td>\n",
       "      <td>78C0A8</td>\n",
       "      <td>5E412F</td>\n",
       "      <td>True</td>\n",
       "      <td>False</td>\n",
       "      <td>_Starqueria</td>\n",
       "      <td>{'retweeted_status': {'retweet_count': 2614, '...</td>\n",
       "      <td>22857</td>\n",
       "      <td>Hawaii</td>\n",
       "      <td>None</td>\n",
       "      <td>-36000.0</td>\n",
       "      <td>False</td>\n",
       "      <td>NaN</td>\n",
       "      <td>None</td>\n",
       "      <td>Fri Sep 26 02:57:32 +0000 2014</td>\n",
       "      <td>{'urls': [], 'media': [{'media_url': 'http://p...</td>\n",
       "      <td>0.0</td>\n",
       "      <td>False</td>\n",
       "      <td>None</td>\n",
       "      <td>5.153343e+17</td>\n",
       "      <td>515334328113307649</td>\n",
       "      <td>None</td>\n",
       "      <td>NaN</td>\n",
       "      <td>None</td>\n",
       "      <td>NaN</td>\n",
       "      <td>None</td>\n",
       "      <td>en</td>\n",
       "      <td>None</td>\n",
       "      <td>False</td>\n",
       "      <td>2614.0</td>\n",
       "      <td>False</td>\n",
       "      <td>{'retweet_count': 2614, 'entities': {'urls': [...</td>\n",
       "      <td>&lt;a href=\"http://twitter.com/download/android\" ...</td>\n",
       "      <td>RT @ImNeverChillin: How your girl look at you ...</td>\n",
       "      <td>False</td>\n",
       "      <td>NaN</td>\n",
       "      <td></td>\n",
       "      <td>0</td>\n",
       "      <td>18</td>\n",
       "      <td>18-25</td>\n",
       "    </tr>\n",
       "    <tr>\n",
       "      <th>97515432</th>\n",
       "      <td>False</td>\n",
       "      <td>2009-12-17 20:08:55</td>\n",
       "      <td>False</td>\n",
       "      <td>False</td>\n",
       "      <td>NEVER care about what a person says that doesn...</td>\n",
       "      <td>{'description': {'urls': []}}</td>\n",
       "      <td>303</td>\n",
       "      <td>False</td>\n",
       "      <td>742</td>\n",
       "      <td>False</td>\n",
       "      <td>701</td>\n",
       "      <td>False</td>\n",
       "      <td>97515432</td>\n",
       "      <td>False</td>\n",
       "      <td>False</td>\n",
       "      <td>en</td>\n",
       "      <td>30</td>\n",
       "      <td>•Carolina South• 843•</td>\n",
       "      <td>. keeleesha</td>\n",
       "      <td>False</td>\n",
       "      <td>131516</td>\n",
       "      <td>http://pbs.twimg.com/profile_background_images...</td>\n",
       "      <td>https://pbs.twimg.com/profile_background_image...</td>\n",
       "      <td>True</td>\n",
       "      <td>NaN</td>\n",
       "      <td>http://pbs.twimg.com/profile_images/4939742059...</td>\n",
       "      <td>https://pbs.twimg.com/profile_images/493974205...</td>\n",
       "      <td>009999</td>\n",
       "      <td>FFFFFF</td>\n",
       "      <td>EFEFEF</td>\n",
       "      <td>333333</td>\n",
       "      <td>True</td>\n",
       "      <td>False</td>\n",
       "      <td>Keeleesha</td>\n",
       "      <td>{'retweet_count': 0, 'entities': {'urls': [], ...</td>\n",
       "      <td>71654</td>\n",
       "      <td>Eastern Time (US &amp; Canada)</td>\n",
       "      <td>None</td>\n",
       "      <td>-14400.0</td>\n",
       "      <td>False</td>\n",
       "      <td>NaN</td>\n",
       "      <td>None</td>\n",
       "      <td>Fri Sep 26 19:10:42 +0000 2014</td>\n",
       "      <td>{'urls': [], 'media': [{'media_url': 'http://p...</td>\n",
       "      <td>0.0</td>\n",
       "      <td>False</td>\n",
       "      <td>None</td>\n",
       "      <td>5.155792e+17</td>\n",
       "      <td>515579231393562624</td>\n",
       "      <td>None</td>\n",
       "      <td>NaN</td>\n",
       "      <td>None</td>\n",
       "      <td>NaN</td>\n",
       "      <td>None</td>\n",
       "      <td>en</td>\n",
       "      <td>None</td>\n",
       "      <td>False</td>\n",
       "      <td>0.0</td>\n",
       "      <td>False</td>\n",
       "      <td>NaN</td>\n",
       "      <td>&lt;a href=\"http://www.myplume.com/\" rel=\"nofollo...</td>\n",
       "      <td>his cake I got for his daycare class. They tor...</td>\n",
       "      <td>False</td>\n",
       "      <td>NaN</td>\n",
       "      <td></td>\n",
       "      <td>0</td>\n",
       "      <td>23</td>\n",
       "      <td>18-25</td>\n",
       "    </tr>\n",
       "    <tr>\n",
       "      <th>224078321</th>\n",
       "      <td>False</td>\n",
       "      <td>2010-12-08 02:50:16</td>\n",
       "      <td>False</td>\n",
       "      <td>False</td>\n",
       "      <td>STOP PREE</td>\n",
       "      <td>{'description': {'urls': []}}</td>\n",
       "      <td>1188</td>\n",
       "      <td>False</td>\n",
       "      <td>1030</td>\n",
       "      <td>False</td>\n",
       "      <td>1006</td>\n",
       "      <td>True</td>\n",
       "      <td>224078321</td>\n",
       "      <td>False</td>\n",
       "      <td>False</td>\n",
       "      <td>en</td>\n",
       "      <td>3</td>\n",
       "      <td>ME</td>\n",
       "      <td>King.</td>\n",
       "      <td>False</td>\n",
       "      <td>642D8B</td>\n",
       "      <td>http://pbs.twimg.com/profile_background_images...</td>\n",
       "      <td>https://pbs.twimg.com/profile_background_image...</td>\n",
       "      <td>True</td>\n",
       "      <td>https://pbs.twimg.com/profile_banners/22407832...</td>\n",
       "      <td>http://pbs.twimg.com/profile_images/5136981503...</td>\n",
       "      <td>https://pbs.twimg.com/profile_images/513698150...</td>\n",
       "      <td>FF0091</td>\n",
       "      <td>FFFFFF</td>\n",
       "      <td>DDEEF6</td>\n",
       "      <td>333333</td>\n",
       "      <td>True</td>\n",
       "      <td>False</td>\n",
       "      <td>loook_backatit</td>\n",
       "      <td>{'retweet_count': 0, 'created_at': 'Fri Sep 26...</td>\n",
       "      <td>19888</td>\n",
       "      <td>Quito</td>\n",
       "      <td>None</td>\n",
       "      <td>-18000.0</td>\n",
       "      <td>False</td>\n",
       "      <td>NaN</td>\n",
       "      <td>None</td>\n",
       "      <td>Fri Sep 26 13:08:25 +0000 2014</td>\n",
       "      <td>{'urls': [], 'user_mentions': [], 'symbols': [...</td>\n",
       "      <td>0.0</td>\n",
       "      <td>False</td>\n",
       "      <td>None</td>\n",
       "      <td>5.154881e+17</td>\n",
       "      <td>515488059371311104</td>\n",
       "      <td>None</td>\n",
       "      <td>NaN</td>\n",
       "      <td>None</td>\n",
       "      <td>NaN</td>\n",
       "      <td>None</td>\n",
       "      <td>en</td>\n",
       "      <td>None</td>\n",
       "      <td>NaN</td>\n",
       "      <td>0.0</td>\n",
       "      <td>False</td>\n",
       "      <td>NaN</td>\n",
       "      <td>&lt;a href=\"http://twitter.com/download/android\" ...</td>\n",
       "      <td>Bae got like 2-3 more mnths in jail #freemyboo...</td>\n",
       "      <td>False</td>\n",
       "      <td>NaN</td>\n",
       "      <td></td>\n",
       "      <td>0</td>\n",
       "      <td>18</td>\n",
       "      <td>18-25</td>\n",
       "    </tr>\n",
       "  </tbody>\n",
       "</table>\n",
       "</div>"
      ],
      "text/plain": [
       "           contributors_enabled          created_at  default_profile  \\\n",
       "612815277                 False 2012-06-19 17:54:58            False   \n",
       "490791079                 False 2012-02-12 22:36:17            False   \n",
       "264416315                 False 2011-03-11 21:44:56            False   \n",
       "97515432                  False 2009-12-17 20:08:55            False   \n",
       "224078321                 False 2010-12-08 02:50:16            False   \n",
       "\n",
       "           default_profile_image  \\\n",
       "612815277                  False   \n",
       "490791079                  False   \n",
       "264416315                  False   \n",
       "97515432                   False   \n",
       "224078321                  False   \n",
       "\n",
       "                                                 description  \\\n",
       "612815277             You'll never find another one like me.   \n",
       "490791079  If you like me, i probably like you more. {IG:...   \n",
       "264416315          Success doesn’t come to you…you go to it.   \n",
       "97515432   NEVER care about what a person says that doesn...   \n",
       "224078321                                          STOP PREE   \n",
       "\n",
       "                                entities  favourites_count  \\\n",
       "612815277  {'description': {'urls': []}}              7931   \n",
       "490791079  {'description': {'urls': []}}              1141   \n",
       "264416315  {'description': {'urls': []}}               174   \n",
       "97515432   {'description': {'urls': []}}               303   \n",
       "224078321  {'description': {'urls': []}}              1188   \n",
       "\n",
       "           follow_request_sent  followers_count  following  friends_count  \\\n",
       "612815277                False              274      False            264   \n",
       "490791079                False              481      False            527   \n",
       "264416315                False              878      False            953   \n",
       "97515432                 False              742      False            701   \n",
       "224078321                False             1030      False           1006   \n",
       "\n",
       "           geo_enabled     id_str  is_translation_enabled  is_translator lang  \\\n",
       "612815277         True  612815277                   False          False   en   \n",
       "490791079         True  490791079                   False          False   en   \n",
       "264416315        False  264416315                   False          False   en   \n",
       "97515432         False   97515432                   False          False   en   \n",
       "224078321         True  224078321                   False          False   en   \n",
       "\n",
       "           listed_count               location          name  notifications  \\\n",
       "612815277             1                               Greggy          False   \n",
       "490791079             1                 9⃣3⃣7⃣        Guff✌️          False   \n",
       "264416315             2            Wonderland   Starqueria.⚓          False   \n",
       "97515432             30  •Carolina South• 843•   . keeleesha          False   \n",
       "224078321             3                     ME         King.          False   \n",
       "\n",
       "          profile_background_color  \\\n",
       "612815277                   131516   \n",
       "490791079                   1A1B1F   \n",
       "264416315                   FCEBB6   \n",
       "97515432                    131516   \n",
       "224078321                   642D8B   \n",
       "\n",
       "                                profile_background_image_url  \\\n",
       "612815277  http://abs.twimg.com/images/themes/theme14/bg.gif   \n",
       "490791079   http://abs.twimg.com/images/themes/theme9/bg.gif   \n",
       "264416315  http://pbs.twimg.com/profile_background_images...   \n",
       "97515432   http://pbs.twimg.com/profile_background_images...   \n",
       "224078321  http://pbs.twimg.com/profile_background_images...   \n",
       "\n",
       "                          profile_background_image_url_https  \\\n",
       "612815277  https://abs.twimg.com/images/themes/theme14/bg...   \n",
       "490791079  https://abs.twimg.com/images/themes/theme9/bg.gif   \n",
       "264416315  https://pbs.twimg.com/profile_background_image...   \n",
       "97515432   https://pbs.twimg.com/profile_background_image...   \n",
       "224078321  https://pbs.twimg.com/profile_background_image...   \n",
       "\n",
       "           profile_background_tile  \\\n",
       "612815277                     True   \n",
       "490791079                    False   \n",
       "264416315                     True   \n",
       "97515432                      True   \n",
       "224078321                     True   \n",
       "\n",
       "                                          profile_banner_url  \\\n",
       "612815277  https://pbs.twimg.com/profile_banners/61281527...   \n",
       "490791079  https://pbs.twimg.com/profile_banners/49079107...   \n",
       "264416315  https://pbs.twimg.com/profile_banners/26441631...   \n",
       "97515432                                                 NaN   \n",
       "224078321  https://pbs.twimg.com/profile_banners/22407832...   \n",
       "\n",
       "                                           profile_image_url  \\\n",
       "612815277  http://pbs.twimg.com/profile_images/4776662828...   \n",
       "490791079  http://pbs.twimg.com/profile_images/5097227545...   \n",
       "264416315  http://pbs.twimg.com/profile_images/5127311352...   \n",
       "97515432   http://pbs.twimg.com/profile_images/4939742059...   \n",
       "224078321  http://pbs.twimg.com/profile_images/5136981503...   \n",
       "\n",
       "                                     profile_image_url_https  \\\n",
       "612815277  https://pbs.twimg.com/profile_images/477666282...   \n",
       "490791079  https://pbs.twimg.com/profile_images/509722754...   \n",
       "264416315  https://pbs.twimg.com/profile_images/512731135...   \n",
       "97515432   https://pbs.twimg.com/profile_images/493974205...   \n",
       "224078321  https://pbs.twimg.com/profile_images/513698150...   \n",
       "\n",
       "          profile_link_color profile_sidebar_border_color  \\\n",
       "612815277             009999                       EEEEEE   \n",
       "490791079             2FC2EF                       181A1E   \n",
       "264416315             CE7834                       F0A830   \n",
       "97515432              009999                       FFFFFF   \n",
       "224078321             FF0091                       FFFFFF   \n",
       "\n",
       "          profile_sidebar_fill_color profile_text_color  \\\n",
       "612815277                     EFEFEF             333333   \n",
       "490791079                     252429             666666   \n",
       "264416315                     78C0A8             5E412F   \n",
       "97515432                      EFEFEF             333333   \n",
       "224078321                     DDEEF6             333333   \n",
       "\n",
       "           profile_use_background_image  protected      screen_name  \\\n",
       "612815277                          True      False  agregtoremember   \n",
       "490791079                          True      False       C_Guffieee   \n",
       "264416315                          True      False      _Starqueria   \n",
       "97515432                           True      False        Keeleesha   \n",
       "224078321                          True      False   loook_backatit   \n",
       "\n",
       "                                                      status  statuses_count  \\\n",
       "612815277  {'retweeted_status': {'retweet_count': 452, 'c...           12230   \n",
       "490791079  {'retweet_count': 0, 'created_at': 'Fri Sep 26...           14680   \n",
       "264416315  {'retweeted_status': {'retweet_count': 2614, '...           22857   \n",
       "97515432   {'retweet_count': 0, 'entities': {'urls': [], ...           71654   \n",
       "224078321  {'retweet_count': 0, 'created_at': 'Fri Sep 26...           19888   \n",
       "\n",
       "                            time_zone   url  utc_offset  verified  \\\n",
       "612815277      Atlantic Time (Canada)  None    -10800.0     False   \n",
       "490791079                      Hawaii  None    -36000.0     False   \n",
       "264416315                      Hawaii  None    -36000.0     False   \n",
       "97515432   Eastern Time (US & Canada)  None    -14400.0     False   \n",
       "224078321                       Quito  None    -18000.0     False   \n",
       "\n",
       "           status_contributors status_coordinates  \\\n",
       "612815277                  NaN               None   \n",
       "490791079                  NaN               None   \n",
       "264416315                  NaN               None   \n",
       "97515432                   NaN               None   \n",
       "224078321                  NaN               None   \n",
       "\n",
       "                        status_created_at  \\\n",
       "612815277  Fri Sep 26 16:49:37 +0000 2014   \n",
       "490791079  Fri Sep 26 17:42:07 +0000 2014   \n",
       "264416315  Fri Sep 26 02:57:32 +0000 2014   \n",
       "97515432   Fri Sep 26 19:10:42 +0000 2014   \n",
       "224078321  Fri Sep 26 13:08:25 +0000 2014   \n",
       "\n",
       "                                             status_entities  \\\n",
       "612815277  {'urls': [], 'user_mentions': [{'id': 15919560...   \n",
       "490791079  {'urls': [], 'user_mentions': [], 'symbols': [...   \n",
       "264416315  {'urls': [], 'media': [{'media_url': 'http://p...   \n",
       "97515432   {'urls': [], 'media': [{'media_url': 'http://p...   \n",
       "224078321  {'urls': [], 'user_mentions': [], 'symbols': [...   \n",
       "\n",
       "           status_favorite_count status_favorited status_geo     status_id  \\\n",
       "612815277                    0.0            False       None  5.155437e+17   \n",
       "490791079                    0.0            False       None  5.155569e+17   \n",
       "264416315                    0.0            False       None  5.153343e+17   \n",
       "97515432                     0.0            False       None  5.155792e+17   \n",
       "224078321                    0.0            False       None  5.154881e+17   \n",
       "\n",
       "                status_id_str status_in_reply_to_screen_name  \\\n",
       "612815277  515543724785684480                           None   \n",
       "490791079  515556938512609280                           None   \n",
       "264416315  515334328113307649                           None   \n",
       "97515432   515579231393562624                           None   \n",
       "224078321  515488059371311104                           None   \n",
       "\n",
       "           status_in_reply_to_status_id status_in_reply_to_status_id_str  \\\n",
       "612815277                           NaN                             None   \n",
       "490791079                           NaN                             None   \n",
       "264416315                           NaN                             None   \n",
       "97515432                            NaN                             None   \n",
       "224078321                           NaN                             None   \n",
       "\n",
       "           status_in_reply_to_user_id status_in_reply_to_user_id_str  \\\n",
       "612815277                         NaN                           None   \n",
       "490791079                         NaN                           None   \n",
       "264416315                         NaN                           None   \n",
       "97515432                          NaN                           None   \n",
       "224078321                         NaN                           None   \n",
       "\n",
       "          status_lang status_place status_possibly_sensitive  \\\n",
       "612815277          en         None                       NaN   \n",
       "490791079          en         None                       NaN   \n",
       "264416315          en         None                     False   \n",
       "97515432           en         None                     False   \n",
       "224078321          en         None                       NaN   \n",
       "\n",
       "           status_retweet_count status_retweeted  \\\n",
       "612815277                 452.0            False   \n",
       "490791079                   0.0            False   \n",
       "264416315                2614.0            False   \n",
       "97515432                    0.0            False   \n",
       "224078321                   0.0            False   \n",
       "\n",
       "                                     status_retweeted_status  \\\n",
       "612815277  {'retweet_count': 452, 'created_at': 'Fri Sep ...   \n",
       "490791079                                                NaN   \n",
       "264416315  {'retweet_count': 2614, 'entities': {'urls': [...   \n",
       "97515432                                                 NaN   \n",
       "224078321                                                NaN   \n",
       "\n",
       "                                               status_source  \\\n",
       "612815277  <a href=\"http://twitter.com/download/android\" ...   \n",
       "490791079  <a href=\"http://twitter.com/download/iphone\" r...   \n",
       "264416315  <a href=\"http://twitter.com/download/android\" ...   \n",
       "97515432   <a href=\"http://www.myplume.com/\" rel=\"nofollo...   \n",
       "224078321  <a href=\"http://twitter.com/download/android\" ...   \n",
       "\n",
       "                                                 status_text status_truncated  \\\n",
       "612815277  RT @DogeTheDog: Wow\\n           So friday\\n   ...            False   \n",
       "490791079  Damn I gotta wait to next week to get the IPho...            False   \n",
       "264416315  RT @ImNeverChillin: How your girl look at you ...            False   \n",
       "97515432   his cake I got for his daycare class. They tor...            False   \n",
       "224078321  Bae got like 2-3 more mnths in jail #freemyboo...            False   \n",
       "\n",
       "           status_0 status_emoji  emoji_cnt  Age age_decade  \n",
       "612815277       NaN                       0   21      18-25  \n",
       "490791079       NaN            😒          1   18      18-25  \n",
       "264416315       NaN                       0   18      18-25  \n",
       "97515432        NaN                       0   23      18-25  \n",
       "224078321       NaN                       0   18      18-25  "
      ]
     },
     "execution_count": 53,
     "metadata": {},
     "output_type": "execute_result"
    }
   ],
   "source": [
    "# Take a look at data\n",
    "age_joined.head()"
   ]
  },
  {
   "cell_type": "markdown",
   "metadata": {},
   "source": [
    "## **Which   age   group   uses   the   most   emojis   in   their   profile   status?"
   ]
  },
  {
   "cell_type": "markdown",
   "metadata": {},
   "source": [
    "**Define 'most emojis'** as total number of emojis used in profile status."
   ]
  },
  {
   "cell_type": "code",
   "execution_count": 54,
   "metadata": {
    "collapsed": false
   },
   "outputs": [
    {
     "data": {
      "text/plain": [
       "<matplotlib.text.Text at 0x124ffae10>"
      ]
     },
     "execution_count": 54,
     "metadata": {},
     "output_type": "execute_result"
    },
    {
     "data": {
      "image/png": "[encoded data removed]",
      "text/plain": [
       "<matplotlib.figure.Figure at 0x124f929b0>"
      ]
     },
     "metadata": {},
     "output_type": "display_data"
    }
   ],
   "source": [
    "# Absolute number of emojis: \n",
    "age_joined.groupby(['age_decade'])['emoji_cnt'].sum().plot(kind='bar', alpha=.7)\n",
    "plt.title('Total number of emojis used in each age group')"
   ]
  },
  {
   "cell_type": "markdown",
   "metadata": {},
   "source": [
    "**How about proportion?** Which age groups has the highest proportion of users that are using emojis in profile status?"
   ]
  },
  {
   "cell_type": "code",
   "execution_count": 55,
   "metadata": {
    "collapsed": false
   },
   "outputs": [
    {
     "data": {
      "text/plain": [
       "age_decade\n",
       "18-25    0.633697\n",
       "26-35    0.411765\n",
       "36-45    0.361111\n",
       "46-55    0.000000\n",
       ">55      0.125000\n",
       "dtype: float64"
      ]
     },
     "execution_count": 55,
     "metadata": {},
     "output_type": "execute_result"
    }
   ],
   "source": [
    "# Proportion of using emojis:\n",
    "age_joined.groupby(['age_decade'])['emoji_cnt'].sum() / age_joined.groupby(['age_decade'])['status_text'].count()"
   ]
  },
  {
   "cell_type": "code",
   "execution_count": 56,
   "metadata": {
    "collapsed": false
   },
   "outputs": [
    {
     "data": {
      "text/plain": [
       "<matplotlib.text.Text at 0x123f752e8>"
      ]
     },
     "execution_count": 56,
     "metadata": {},
     "output_type": "execute_result"
    },
    {
     "data": {
      "image/png": "[encoded data removed]",
      "text/plain": [
       "<matplotlib.figure.Figure at 0x124998048>"
      ]
     },
     "metadata": {},
     "output_type": "display_data"
    }
   ],
   "source": [
    "(age_joined.groupby(['age_decade'])['emoji_cnt'].sum() / age_joined.groupby(['age_decade'])['status_text'].count()).plot(kind='bar', alpha=.7)\n",
    "plt.title('Proportion of emojis used in tweets in each age group')"
   ]
  },
  {
   "cell_type": "markdown",
   "metadata": {},
   "source": [
    "## Which is the most common emoji?"
   ]
  },
  {
   "cell_type": "markdown",
   "metadata": {},
   "source": [
    "Define \"most common emoji\" as the emoji used for the largest number of times."
   ]
  },
  {
   "cell_type": "code",
   "execution_count": 57,
   "metadata": {
    "collapsed": true
   },
   "outputs": [],
   "source": [
    "# Stack all status_emoji together into one list, find the most common one:\n",
    "all_emojis_lst = list(filter(None, age_profiles_new.status_emoji.tolist()))"
   ]
  },
  {
   "cell_type": "code",
   "execution_count": 58,
   "metadata": {
    "collapsed": false
   },
   "outputs": [],
   "source": [
    "# Get a string of all emojis:\n",
    "all_emojis = ''.join(x for x in all_emojis_lst)"
   ]
  },
  {
   "cell_type": "code",
   "execution_count": 59,
   "metadata": {
    "collapsed": false
   },
   "outputs": [
    {
     "data": {
      "text/plain": [
       "[('😂', 164), ('😍', 63), ('😩', 53), ('😭', 50), ('🎉', 48)]"
      ]
     },
     "execution_count": 59,
     "metadata": {},
     "output_type": "execute_result"
    }
   ],
   "source": [
    "Counter(all_emojis).most_common(5)"
   ]
  },
  {
   "cell_type": "markdown",
   "metadata": {},
   "source": [
    "**Conclusion:** \n",
    "- 😂 is the most common emoji, with 164 appearances. "
   ]
  }
 ],
 "metadata": {
  "anaconda-cloud": {},
  "kernelspec": {
   "display_name": "Python [conda env:capstone]",
   "language": "python",
   "name": "conda-env-capstone-py"
  },
  "language_info": {
   "codemirror_mode": {
    "name": "ipython",
    "version": 3
   },
   "file_extension": ".py",
   "mimetype": "text/x-python",
   "name": "python",
   "nbconvert_exporter": "python",
   "pygments_lexer": "ipython3",
   "version": "3.6.1"
  }
 },
 "nbformat": 4,
 "nbformat_minor": 2
}
